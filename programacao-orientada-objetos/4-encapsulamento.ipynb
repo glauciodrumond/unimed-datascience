{
  "nbformat": 4,
  "nbformat_minor": 0,
  "metadata": {
    "colab": {
      "provenance": [],
      "authorship_tag": "ABX9TyPrNhTFyKaXNwCQUtW+Ae7k",
      "include_colab_link": true
    },
    "kernelspec": {
      "name": "python3",
      "display_name": "Python 3"
    },
    "language_info": {
      "name": "python"
    }
  },
  "cells": [
    {
      "cell_type": "markdown",
      "metadata": {
        "id": "view-in-github",
        "colab_type": "text"
      },
      "source": [
        "<a href=\"https://colab.research.google.com/github/glauciodrumond/unimed-datascience/blob/main/programacao-orientada-objetos/4-encapsulamento.ipynb\" target=\"_parent\"><img src=\"https://colab.research.google.com/assets/colab-badge.svg\" alt=\"Open In Colab\"/></a>"
      ]
    },
    {
      "cell_type": "markdown",
      "source": [
        "# Encapsulamento\n",
        "\n",
        "## Proteção de acesso\n",
        "\n",
        "O encapsulamento é um dos conceitos fundamentais em programação orientada a objetos. Ele descreve a ideia de agrupar dados e os métodos que manipulam esses dados em uma unidade.\n",
        "\n",
        "Isso impõe retrições ao acesso direto a variáveis e métodos e pode evitar a modificação acidental de dados.\n",
        "\n",
        "Para evitar alterações acidentais, a variável de um objeto só pode ser alterada pelo método desse objeto.\n",
        "\n"
      ],
      "metadata": {
        "id": "dsO6q7NoHMIJ"
      }
    },
    {
      "cell_type": "markdown",
      "source": [
        "# Recursos públicos e privados\n"
      ],
      "metadata": {
        "id": "Ygi_RoK_IDkv"
      }
    },
    {
      "cell_type": "markdown",
      "source": [
        "## Modificadores de acesso\n",
        "\n",
        "Em linguagens como Java e C++, existem palavras reservadas para definir o nível de acesso aos atributos e métodos da classe.\n",
        "\n",
        "Em Python não temos palavras reservadas, porém usamos convenções no nome do recurso, para definir se a variável é pública ou privada.\n",
        "\n",
        "## Definição\n",
        "\n",
        "* Público: pode ser acessado de fora da classe\n",
        "* Privado: só pode ser acessado pela classe"
      ],
      "metadata": {
        "id": "rIRtzRrcIM7d"
      }
    },
    {
      "cell_type": "markdown",
      "source": [
        "# Público/Privado\n",
        "\n",
        "Todos os recursos são públcos, a menos que o nome inicie com underline. Ou seja, o interpretador Python não irá garantir a proteção do recurso, mas por ser uma convenção amplamente adotada pela comunidade, quando encontramos uma variável e/ou método com nome iniciado por underline, sabemos que não deveríamos manipular o seu valor diretamente, ou invocar o método fora do escopo da classe."
      ],
      "metadata": {
        "id": "hZQkxBQpI88I"
      }
    },
    {
      "cell_type": "code",
      "execution_count": 1,
      "metadata": {
        "colab": {
          "base_uri": "https://localhost:8080/"
        },
        "id": "SuxNi0WYHGOs",
        "outputId": "0520df68-521e-453f-8fa4-a0131073600d"
      },
      "outputs": [
        {
          "output_type": "stream",
          "name": "stdout",
          "text": [
            "0001\n",
            "200\n"
          ]
        }
      ],
      "source": [
        "class Conta:\n",
        "    def __init__(self, nro_agencia, saldo=0):\n",
        "        self._saldo = saldo\n",
        "        self.nro_agencia = nro_agencia\n",
        "\n",
        "    def depositar(self, valor):\n",
        "        # ...\n",
        "        self._saldo += valor\n",
        "\n",
        "    def sacar(self, valor):\n",
        "        # ...\n",
        "        self._saldo -= valor\n",
        "\n",
        "    def mostrar_saldo(self):\n",
        "        # ...\n",
        "        return self._saldo\n",
        "\n",
        "\n",
        "conta = Conta(\"0001\", 100)\n",
        "conta.depositar(100)\n",
        "print(conta.nro_agencia)\n",
        "print(conta.mostrar_saldo())"
      ]
    },
    {
      "cell_type": "markdown",
      "source": [
        "# Properties\n",
        "\n",
        "Com o `property()` do Python, você pode criar atributos gerenciados em suas classes.\n",
        "\n",
        "Você pode usar atributos gerenciados, também conhecidos como propriedades, quando precisar modificar sua implementação interna sem alterar a API pública da classe."
      ],
      "metadata": {
        "id": "60rLH9oGR2Rj"
      }
    },
    {
      "cell_type": "code",
      "source": [
        "class Foo:\n",
        "    def __init__(self, x=None):\n",
        "        self._x = x\n",
        "\n",
        "    @property\n",
        "    def x(self):\n",
        "        return self._x or 0\n",
        "\n",
        "    @x.setter\n",
        "    def x(self, value):\n",
        "        self._x += value\n",
        "\n",
        "    @x.deleter\n",
        "    def x(self):\n",
        "        self._x = 0\n",
        "\n",
        "\n",
        "foo = Foo(10)\n",
        "print(foo.x)\n",
        "del foo.x\n",
        "print(foo.x)\n",
        "foo.x = 10\n",
        "print(foo.x)"
      ],
      "metadata": {
        "colab": {
          "base_uri": "https://localhost:8080/"
        },
        "id": "vMa-cFhgIL0o",
        "outputId": "bd1d5e67-af67-440d-9849-a6f4e24d87ed"
      },
      "execution_count": 2,
      "outputs": [
        {
          "output_type": "stream",
          "name": "stdout",
          "text": [
            "10\n",
            "0\n",
            "10\n"
          ]
        }
      ]
    },
    {
      "cell_type": "code",
      "source": [
        "class Pessoa:\n",
        "    def __init__(self, nome, ano_nascimento):\n",
        "        self.nome = nome\n",
        "        self._ano_nascimento = ano_nascimento\n",
        "\n",
        "    @property\n",
        "    def idade(self):\n",
        "        _ano_atual = 2022\n",
        "        return _ano_atual - self._ano_nascimento\n",
        "\n",
        "\n",
        "pessoa = Pessoa(\"Guilherme\", 1994)\n",
        "print(f\"Nome: {pessoa.nome} \\tIdade: {pessoa.idade}\")"
      ],
      "metadata": {
        "colab": {
          "base_uri": "https://localhost:8080/"
        },
        "id": "LUU1l7hlSbLW",
        "outputId": "61c4b6e1-b1f2-4ae0-dee9-71822d6a17ee"
      },
      "execution_count": 3,
      "outputs": [
        {
          "output_type": "stream",
          "name": "stdout",
          "text": [
            "Nome: Guilherme \tIdade: 28\n"
          ]
        }
      ]
    },
    {
      "cell_type": "code",
      "source": [],
      "metadata": {
        "id": "g68SHXUuS6KF"
      },
      "execution_count": null,
      "outputs": []
    }
  ]
}