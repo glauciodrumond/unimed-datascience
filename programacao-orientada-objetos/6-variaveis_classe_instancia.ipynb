{
  "nbformat": 4,
  "nbformat_minor": 0,
  "metadata": {
    "colab": {
      "provenance": [],
      "authorship_tag": "ABX9TyOiGFyNdN6gvVWcGqB/TU33",
      "include_colab_link": true
    },
    "kernelspec": {
      "name": "python3",
      "display_name": "Python 3"
    },
    "language_info": {
      "name": "python"
    }
  },
  "cells": [
    {
      "cell_type": "markdown",
      "metadata": {
        "id": "view-in-github",
        "colab_type": "text"
      },
      "source": [
        "<a href=\"https://colab.research.google.com/github/glauciodrumond/unimed-datascience/blob/main/programacao-orientada-objetos/6-variaveis_classe_instancia.ipynb\" target=\"_parent\"><img src=\"https://colab.research.google.com/assets/colab-badge.svg\" alt=\"Open In Colab\"/></a>"
      ]
    },
    {
      "cell_type": "markdown",
      "source": [
        "# Variáveis de classe e variáveis de instância\n",
        "\n",
        "\n",
        "\n"
      ],
      "metadata": {
        "id": "MvvA36mSBKqP"
      }
    },
    {
      "cell_type": "markdown",
      "source": [
        "# O que são e quando utilizamos\n",
        "\n",
        "## Atributos do objeto\n",
        "\n",
        "Todos os objetos nascem com o mesmo número de atributos de classe e de instância.\n",
        "\n",
        "Atributos de instância são diferentes para cada objeto (cada objeto tem uma cópia), já os atributos de classe são compartilhados entre os objetos."
      ],
      "metadata": {
        "id": "Cm_IqX-xBT1K"
      }
    },
    {
      "cell_type": "code",
      "source": [
        "class Estudante:\n",
        "    # variaveis de classe são declaradas logo após \n",
        "    # a definicao da classe\n",
        "    escola = \"DIO\"\n",
        "\n",
        "    # lembrete: self sao variaveis de instancia\n",
        "    def __init__(self, nome, matricula):\n",
        "        self.nome = nome\n",
        "        self.matricula = matricula\n",
        "\n",
        "    def __str__(self) -> str:\n",
        "        return f\"{self.nome} - {self.matricula} - {self.escola}\"\n",
        "\n",
        "\n",
        "def mostrar_valores(*objs):\n",
        "    for obj in objs:\n",
        "        print(obj)\n",
        "\n",
        "\n",
        "aluno_1 = Estudante(\"Guilherme\", 1)\n",
        "aluno_2 = Estudante(\"Giovanna\", 2)\n",
        "mostrar_valores(aluno_1, aluno_2)\n",
        "\n",
        "\n",
        "Estudante.escola = \"Python\"\n",
        "aluno_3 = Estudante(\"Chappie\", 3)\n",
        "mostrar_valores(aluno_1, aluno_2, aluno_3)"
      ],
      "metadata": {
        "colab": {
          "base_uri": "https://localhost:8080/"
        },
        "id": "WKpTG1fpChAn",
        "outputId": "907d302e-942b-424a-ccae-7844d755a3b8"
      },
      "execution_count": 2,
      "outputs": [
        {
          "output_type": "stream",
          "name": "stdout",
          "text": [
            "Guilherme - 1 - DIO\n",
            "Giovanna - 2 - DIO\n",
            "Guilherme - 1 - Python\n",
            "Giovanna - 2 - Python\n",
            "Chappie - 3 - Python\n"
          ]
        }
      ]
    }
  ]
}