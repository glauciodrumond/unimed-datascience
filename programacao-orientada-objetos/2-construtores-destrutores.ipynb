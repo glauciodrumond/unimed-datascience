{
  "nbformat": 4,
  "nbformat_minor": 0,
  "metadata": {
    "colab": {
      "provenance": [],
      "authorship_tag": "ABX9TyPKAbAGXpxkzVC6lZyryk+i",
      "include_colab_link": true
    },
    "kernelspec": {
      "name": "python3",
      "display_name": "Python 3"
    },
    "language_info": {
      "name": "python"
    }
  },
  "cells": [
    {
      "cell_type": "markdown",
      "metadata": {
        "id": "view-in-github",
        "colab_type": "text"
      },
      "source": [
        "<a href=\"https://colab.research.google.com/github/glauciodrumond/unimed-datascience/blob/main/programacao-orientada-objetos/2-construtores-destrutores.ipynb\" target=\"_parent\"><img src=\"https://colab.research.google.com/assets/colab-badge.svg\" alt=\"Open In Colab\"/></a>"
      ]
    },
    {
      "cell_type": "markdown",
      "source": [
        "# Método construtor\n",
        "\n",
        "Sempre é executado quando uma nova instância da classe é criada. Nesse método inicializamos o estado do nosso objeto. \n",
        "\n",
        "Para declarar o método construtor da classe, criamos um método com o nome `__init__`."
      ],
      "metadata": {
        "id": "nBdl84X0wUAa"
      }
    },
    {
      "cell_type": "markdown",
      "source": [
        "# Meetodo destrutor\n",
        "\n",
        "Sempre é executado quando uma instância (objeto) é destruída. Destrutores em Python não são tão necessários quanto em C++ porque o Python tem um coletor de lixo que lida com o gerenciamento de memória automaticamente.\n",
        "\n",
        "Para declarar o método destrutor da classe, criamos um método com o nome `__del__`."
      ],
      "metadata": {
        "id": "FAVzWGCyxxWL"
      }
    },
    {
      "cell_type": "code",
      "execution_count": 1,
      "metadata": {
        "colab": {
          "base_uri": "https://localhost:8080/"
        },
        "id": "gg_Achr2wPUp",
        "outputId": "d9cfc397-7180-4d81-9528-4e1333c4453d"
      },
      "outputs": [
        {
          "output_type": "stream",
          "name": "stdout",
          "text": [
            "Inicializando a classe...\n",
            "auau\n",
            "Ola mundo\n",
            "Removendo a instância da classe.\n",
            "Ola mundo\n",
            "Ola mundo\n",
            "Ola mundo\n"
          ]
        }
      ],
      "source": [
        "class Cachorro:\n",
        "    def __init__(self, nome, cor, acordado=True):\n",
        "        print(\"Inicializando a classe...\")\n",
        "        self.nome = nome\n",
        "        self.cor = cor\n",
        "        self.acordado = acordado\n",
        "\n",
        "    def __del__(self):\n",
        "        print(\"Removendo a instância da classe.\")\n",
        "\n",
        "    def falar(self):\n",
        "        print(\"auau\")\n",
        "\n",
        "\n",
        "def criar_cachorro():\n",
        "    c = Cachorro(\"Zeus\", \"Branco e preto\", False)\n",
        "    print(c.nome)\n",
        "\n",
        "\n",
        "c = Cachorro(\"Chappie\", \"amarelo\")\n",
        "c.falar()\n",
        "\n",
        "print(\"Ola mundo\")\n",
        "\n",
        "del c\n",
        "\n",
        "print(\"Ola mundo\")\n",
        "print(\"Ola mundo\")\n",
        "print(\"Ola mundo\")\n",
        "\n",
        "# criar_cachorro()"
      ]
    }
  ]
}