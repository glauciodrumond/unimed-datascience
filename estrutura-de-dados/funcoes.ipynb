{
  "nbformat": 4,
  "nbformat_minor": 0,
  "metadata": {
    "colab": {
      "provenance": [],
      "authorship_tag": "ABX9TyO0XGvrLD8btP+PO3PlRB+1",
      "include_colab_link": true
    },
    "kernelspec": {
      "name": "python3",
      "display_name": "Python 3"
    },
    "language_info": {
      "name": "python"
    }
  },
  "cells": [
    {
      "cell_type": "markdown",
      "metadata": {
        "id": "view-in-github",
        "colab_type": "text"
      },
      "source": [
        "<a href=\"https://colab.research.google.com/github/glauciodrumond/unimed-datascience/blob/main/estrutura-de-dados/funcoes.ipynb\" target=\"_parent\"><img src=\"https://colab.research.google.com/assets/colab-badge.svg\" alt=\"Open In Colab\"/></a>"
      ]
    },
    {
      "cell_type": "code",
      "source": [
        "!python --version\n"
      ],
      "metadata": {
        "colab": {
          "base_uri": "https://localhost:8080/"
        },
        "id": "uutWWVHrQ8Pe",
        "outputId": "bc20e50e-0e06-4340-9498-74cc557093c9"
      },
      "execution_count": 18,
      "outputs": [
        {
          "output_type": "stream",
          "name": "stdout",
          "text": [
            "Python 3.7.14\n"
          ]
        }
      ]
    },
    {
      "cell_type": "markdown",
      "source": [
        "# Funções\n",
        "\n",
        "Função é um bloco de código identificado por um nome e pode receber uma lista de parâmetros, esses parâmetros podem ou não ter valores padrões.\n",
        "\n",
        "Usar funções torna o código mais legível e possibilita o reaproveitamento de código.\n",
        "\n",
        "Programar baseado em funções, é o mesmo que dizer que estamos programando de maneira estruturada."
      ],
      "metadata": {
        "id": "I07cU_lzFFir"
      }
    },
    {
      "cell_type": "code",
      "execution_count": 1,
      "metadata": {
        "colab": {
          "base_uri": "https://localhost:8080/"
        },
        "id": "bOJwTs4dFETk",
        "outputId": "31d08608-6853-42fa-ab5f-84e0d7be1620"
      },
      "outputs": [
        {
          "output_type": "stream",
          "name": "stdout",
          "text": [
            "Olá mundo!\n",
            "Seja bem vindo Guilherme!\n",
            "Seja bem vindo Anônimo!\n",
            "Seja bem vindo Chappie!\n"
          ]
        }
      ],
      "source": [
        "def exibir_mensagem():\n",
        "    print(\"Olá mundo!\")\n",
        "\n",
        "\n",
        "def exibir_mensagem_2(nome):\n",
        "    print(f\"Seja bem vindo {nome}!\")\n",
        "\n",
        "\n",
        "def exibir_mensagem_3(nome=\"Anônimo\"):\n",
        "    print(f\"Seja bem vindo {nome}!\")\n",
        "\n",
        "\n",
        "exibir_mensagem()\n",
        "exibir_mensagem_2(nome=\"Guilherme\")\n",
        "exibir_mensagem_3()\n",
        "exibir_mensagem_3(nome=\"Chappie\")"
      ]
    },
    {
      "cell_type": "markdown",
      "source": [
        "## Retornanado valores\n",
        "\n",
        "Para retornar um valor, utilizamos a palavra reservada `return`. Toda função Python retorna `None` por padrão.\n",
        "\n",
        "Diferente de outras linguagens de programação, em Python uma função pode retornar mais de um valor."
      ],
      "metadata": {
        "id": "BOfPt23dGVqv"
      }
    },
    {
      "cell_type": "code",
      "source": [
        "def calcular_total(numeros):\n",
        "    return sum(numeros)\n",
        "\n",
        "\n",
        "def retorna_antecessor_e_sucessor(numero):\n",
        "    antecessor = numero - 1\n",
        "    sucessor = numero + 1\n",
        "\n",
        "    return antecessor, sucessor\n",
        "\n",
        "\n",
        "print(calcular_total([10, 20, 34]))  # 64\n",
        "print(retorna_antecessor_e_sucessor(10))  # (9, 11)"
      ],
      "metadata": {
        "colab": {
          "base_uri": "https://localhost:8080/"
        },
        "id": "Or4aGJmEF01_",
        "outputId": "ce427ba4-44c6-42c3-b21c-70793ab30788"
      },
      "execution_count": 2,
      "outputs": [
        {
          "output_type": "stream",
          "name": "stdout",
          "text": [
            "64\n",
            "(9, 11)\n"
          ]
        }
      ]
    },
    {
      "cell_type": "markdown",
      "source": [
        "## Argumentos nomeados\n",
        "\n",
        "Funções também podem ser chamadas usando argumentos nomeados da forma `chave=valor`."
      ],
      "metadata": {
        "id": "S4uJRcLkGyyq"
      }
    },
    {
      "cell_type": "code",
      "source": [
        "def salvar_carro(marca, modelo, ano, placa):\n",
        "    # salva carro no banco de dados...\n",
        "    print(f\"Carro inserido com sucesso! {marca}/{modelo}/{ano}/{placa}\")\n",
        "\n",
        "\n",
        "salvar_carro(\"Fiat\", \"Palio\", 1999, \"ABC-1234\")\n",
        "salvar_carro(marca=\"Fiat\", modelo=\"Palio\", ano=1999, placa=\"ABC-1234\")\n",
        "salvar_carro(**{\"marca\": \"Fiat\", \"modelo\": \"Palio\", \"ano\": 1999, \"placa\": \"ABC-1234\"})"
      ],
      "metadata": {
        "colab": {
          "base_uri": "https://localhost:8080/"
        },
        "id": "E8rq3i5NF4aI",
        "outputId": "0e8f0f36-a76a-4abb-fe59-8835be9f1a6b"
      },
      "execution_count": 3,
      "outputs": [
        {
          "output_type": "stream",
          "name": "stdout",
          "text": [
            "Carro inserido com sucesso! Fiat/Palio/1999/ABC-1234\n",
            "Carro inserido com sucesso! Fiat/Palio/1999/ABC-1234\n",
            "Carro inserido com sucesso! Fiat/Palio/1999/ABC-1234\n"
          ]
        }
      ]
    },
    {
      "cell_type": "markdown",
      "source": [
        "## Args e kwargs\n",
        "\n",
        "Podemos combinar parâmetros obrigatórios com `args` e `kwargs`. Quando esses são definidos (`*args` e `**kwargs`), o método recebe os valores como tupla e dicionário respectivamente."
      ],
      "metadata": {
        "id": "V89iGASVHq1e"
      }
    },
    {
      "cell_type": "code",
      "source": [
        "def exibir_poema(data_extenso, *args, **kwargs):\n",
        "    texto = \"\\n\".join(args)\n",
        "    meta_dados = \"\\n\".join([f\"{chave.title()}: {valor}\" for chave, valor in kwargs.items()])\n",
        "    mensagem = f\"{data_extenso}\\n\\n{texto}\\n\\n{meta_dados}\"\n",
        "    print(mensagem)\n",
        "\n",
        "\n",
        "exibir_poema(\n",
        "    \"Sexta-feira, 30 de setembro de 2022\",\n",
        "    \"Zen of Python\",\n",
        "    \"Beautiful is better than ugly.\",\n",
        "    \"Explicit is better than implicit.\",\n",
        "    \"Simple is better than complex.\",\n",
        "    \"Complex is better than complicated.\",\n",
        "    \"Flat is better than nested.\",\n",
        "    \"Sparse is better than dense.\",\n",
        "    \"Readability counts.\",\n",
        "    \"Special cases aren't special enough to break the rules.\",\n",
        "    \"Although practicality beats purity.\",\n",
        "    \"Errors should never pass silently.\",\n",
        "    \"Unless explicitly silenced.\",\n",
        "    \"In the face of ambiguity, refuse the temptation to guess.\",\n",
        "    \"There should be one-- and preferably only one --obvious way to do it.\",\n",
        "    \"Although that way may not be obvious at first unless you're Dutch.\",\n",
        "    \"Now is better than never.\",\n",
        "    \"Although never is often better than *right* now.\",\n",
        "    \"If the implementation is hard to explain, it's a bad idea.\",\n",
        "    \"If the implementation is easy to explain, it may be a good idea.\",\n",
        "    \"Namespaces are one honking great idea -- let's do more of those!\",\n",
        "    autor=\"Tim Peters\",\n",
        "    ano=1999,\n",
        ")\n"
      ],
      "metadata": {
        "colab": {
          "base_uri": "https://localhost:8080/"
        },
        "id": "5NcFw8C6F6_i",
        "outputId": "05ca5e07-de38-47e4-d6b2-1b76079407de"
      },
      "execution_count": 9,
      "outputs": [
        {
          "output_type": "stream",
          "name": "stdout",
          "text": [
            "Sexta-feira, 30 de setembro de 2022\n",
            "\n",
            "Zen of Python\n",
            "Beautiful is better than ugly.\n",
            "Explicit is better than implicit.\n",
            "Simple is better than complex.\n",
            "Complex is better than complicated.\n",
            "Flat is better than nested.\n",
            "Sparse is better than dense.\n",
            "Readability counts.\n",
            "Special cases aren't special enough to break the rules.\n",
            "Although practicality beats purity.\n",
            "Errors should never pass silently.\n",
            "Unless explicitly silenced.\n",
            "In the face of ambiguity, refuse the temptation to guess.\n",
            "There should be one-- and preferably only one --obvious way to do it.\n",
            "Although that way may not be obvious at first unless you're Dutch.\n",
            "Now is better than never.\n",
            "Although never is often better than *right* now.\n",
            "If the implementation is hard to explain, it's a bad idea.\n",
            "If the implementation is easy to explain, it may be a good idea.\n",
            "Namespaces are one honking great idea -- let's do more of those!\n",
            "\n",
            "Autor: Tim Peters\n",
            "Ano: 1999\n"
          ]
        }
      ]
    },
    {
      "cell_type": "markdown",
      "source": [
        "## Parâmetros especiais\n",
        "\n",
        "Por padrão, argumentos podem ser passados para uma função Python tanto por posição quanto explicitamente pelo nome.\n",
        "\n",
        "Para uma melhor legibilidade e desempenho, faz sentido restringir a maneira pelo qual argumentos possam ser passados, assim um desenvolvedor precisa apenas olhar para a definição da função para determinar se os itens são passados por **posição**, **posição e nome**, ou por **nome**."
      ],
      "metadata": {
        "id": "-zM-Ew7GITyY"
      }
    },
    {
      "cell_type": "markdown",
      "source": [
        "### Positional only"
      ],
      "metadata": {
        "id": "4qjxKc-bK1D8"
      }
    },
    {
      "cell_type": "code",
      "source": [
        "def criar_carro(modelo, ano, placa, /, marca, motor, combustivel):\n",
        "    print(modelo, ano, placa, marca, motor, combustivel)\n",
        "\n",
        "\n",
        "criar_carro(\"Palio\", 1999, \"ABC-1234\", marca=\"Fiat\", motor=\"1.0\", combustivel=\"Gasolina\")\n",
        "#criar_carro(modelo=\"Palio\", ano=1999, placa=\"ABC-1234\", marca=\"Fiat\", motor=\"1.0\", combustivel=\"Gasolina\")  # inválido"
      ],
      "metadata": {
        "id": "lVNWpWYvGDmc"
      },
      "execution_count": null,
      "outputs": []
    },
    {
      "cell_type": "markdown",
      "source": [
        "### Keyword and positional only"
      ],
      "metadata": {
        "id": "hsZVizs3O2OS"
      }
    },
    {
      "cell_type": "code",
      "source": [
        "def criar_carro(modelo, ano, placa, /, *, marca, motor, combustivel):\n",
        "    print(modelo, ano, placa, marca, motor, combustivel)\n",
        "\n",
        "\n",
        "criar_carro(\"Palio\", 1999, \"ABC-1234\", marca=\"Fiat\", motor=\"1.0\", combustivel=\"Gasolina\")\n",
        "#criar_carro(modelo=\"Palio\", ano=1999, placa=\"ABC-1234\", marca=\"Fiat\", motor=\"1.0\", combustivel=\"Gasolina\")  # inválido\n"
      ],
      "metadata": {
        "id": "K-bh46VKGHA7"
      },
      "execution_count": null,
      "outputs": []
    },
    {
      "cell_type": "markdown",
      "source": [
        "# Objetos de primeira classe\n",
        "\n",
        "Em Python tudo é objeto, dessa forma funções também são objetos o que as tornam objetos de primeira classe.\n",
        "\n",
        "Com isso podemos atribuir funções a variáveis, passá-las como parâmetros para funções, usá-las como valores em estruturas de dados (lista, tuplas, dicionários, etc) e usar como valor de retorno para uma função (closures)."
      ],
      "metadata": {
        "id": "O6HlsESuSBz6"
      }
    },
    {
      "cell_type": "code",
      "source": [
        "def somar(a, b):\n",
        "    return a + b\n",
        "\n",
        "\n",
        "def exibir_resultado(a, b, funcao):\n",
        "    resultado = funcao(a, b)\n",
        "    print(f\"O resultado da operação {a} + {b} = {resultado}\")\n",
        "\n",
        "\n",
        "exibir_resultado(10, 10, somar)  # O resultado da operação 10 + 10 = 20"
      ],
      "metadata": {
        "colab": {
          "base_uri": "https://localhost:8080/"
        },
        "id": "X2rNG820GJr9",
        "outputId": "1c20696b-0eba-462d-904e-e78f1cb9f31a"
      },
      "execution_count": 7,
      "outputs": [
        {
          "output_type": "stream",
          "name": "stdout",
          "text": [
            "O resultado da operação 10 + 10 = 20\n"
          ]
        }
      ]
    },
    {
      "cell_type": "markdown",
      "source": [
        "## Escopo local e global\n",
        "\n",
        "Python trabalha com escopo local e global, dentro do bloco da função o escopo é local. Portanto, alterações ali feitas em objetos imutáveis serão perdidas quando o método terminar de ser executado.\n",
        "\n",
        "Para usar objetos globais utilizamos a palavra chave `global`, que informa ao interpretador que a variável que está sendo manipulada no escopo local é global. \n",
        "\n",
        "**Essa não é uma boa prática e deve ser evitada!**"
      ],
      "metadata": {
        "id": "nxPhkz00SwLf"
      }
    },
    {
      "cell_type": "code",
      "source": [
        "salario = 2000\n",
        "\n",
        "\n",
        "def salario_bonus(bonus):\n",
        "    global salario\n",
        "    salario += bonus\n",
        "    return salario\n",
        "\n",
        "\n",
        "salario_bonus(500)  # 2500"
      ],
      "metadata": {
        "colab": {
          "base_uri": "https://localhost:8080/"
        },
        "id": "gANeYznGGNeC",
        "outputId": "957021d4-f7f1-499f-d724-99028ff22c77"
      },
      "execution_count": 8,
      "outputs": [
        {
          "output_type": "execute_result",
          "data": {
            "text/plain": [
              "2500"
            ]
          },
          "metadata": {},
          "execution_count": 8
        }
      ]
    },
    {
      "cell_type": "code",
      "source": [],
      "metadata": {
        "id": "bSCK0BvtTwv2"
      },
      "execution_count": null,
      "outputs": []
    }
  ]
}