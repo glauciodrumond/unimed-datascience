{
  "nbformat": 4,
  "nbformat_minor": 0,
  "metadata": {
    "colab": {
      "provenance": [],
      "authorship_tag": "ABX9TyM83UWGqRfX5o1KWnpcwANz",
      "include_colab_link": true
    },
    "kernelspec": {
      "name": "python3",
      "display_name": "Python 3"
    },
    "language_info": {
      "name": "python"
    }
  },
  "cells": [
    {
      "cell_type": "markdown",
      "metadata": {
        "id": "view-in-github",
        "colab_type": "text"
      },
      "source": [
        "<a href=\"https://colab.research.google.com/github/glauciodrumond/unimed-datascience/blob/main/programacao-orientada-objetos/1-primeiro-programa-poo.ipynb\" target=\"_parent\"><img src=\"https://colab.research.google.com/assets/colab-badge.svg\" alt=\"Open In Colab\"/></a>"
      ]
    },
    {
      "cell_type": "markdown",
      "source": [
        "## Nosso primeiro programa POO\n",
        "\n",
        "João tem uma bicicletaria e gostaria de registrar as vendas de suas bicicletas.\n",
        "\n",
        "Crie um programa onde João informe: **cor, modelo, ano e valor** da bicicleta vendida.\n",
        "\n",
        "Uma bicicleta pode: **buzinar, parar e correr**. Adicione estes comportamentos."
      ],
      "metadata": {
        "id": "oi26195gqWW8"
      }
    },
    {
      "cell_type": "code",
      "execution_count": 1,
      "metadata": {
        "colab": {
          "base_uri": "https://localhost:8080/"
        },
        "id": "JEk-DRbtpO_o",
        "outputId": "57bdfbf5-15d7-4e70-8435-4dc2f3e4185b"
      },
      "outputs": [
        {
          "output_type": "stream",
          "name": "stdout",
          "text": [
            "Plim plim...\n",
            "Vrummmmm...\n",
            "Parando bicicleta...\n",
            "Bicicleta parada!\n",
            "vermelha caloi 2022 600\n",
            "Bicicleta: cor=verde, modelo=monark, ano=2000, valor=189\n",
            "Vrummmmm...\n"
          ]
        }
      ],
      "source": [
        "class Bicicleta:\n",
        "    def __init__(self, cor, modelo, ano, valor):\n",
        "        self.cor = cor\n",
        "        self.modelo = modelo\n",
        "        self.ano = ano\n",
        "        self.valor = valor\n",
        "\n",
        "    def buzinar(self):\n",
        "        print(\"Plim plim...\")\n",
        "\n",
        "    def parar(self):\n",
        "        print(\"Parando bicicleta...\")\n",
        "        print(\"Bicicleta parada!\")\n",
        "\n",
        "    def correr(self):\n",
        "        print(\"Vrummmmm...\")\n",
        "\n",
        "    def __str__(self):\n",
        "        return f\"{self.__class__.__name__}: {', '.join([f'{chave}={valor}' for chave, valor in self.__dict__.items()])}\"\n",
        "\n",
        "\n",
        "b1 = Bicicleta(\"vermelha\", \"caloi\", 2022, 600)\n",
        "b1.buzinar()\n",
        "b1.correr()\n",
        "b1.parar()\n",
        "print(b1.cor, b1.modelo, b1.ano, b1.valor)\n",
        "\n",
        "b2 = Bicicleta(\"verde\", \"monark\", 2000, 189)\n",
        "print(b2)\n",
        "b2.correr()"
      ]
    },
    {
      "cell_type": "code",
      "source": [
        "class Cachorro:\n",
        "    def __init__(self, nome, cor, acordado=True):\n",
        "        print(\"Inicializando a classe...\")\n",
        "        self.nome = nome\n",
        "        self.cor = cor\n",
        "        self.acordado = acordado\n",
        "\n",
        "    def __del__(self):\n",
        "        print(\"Removendo a instância da classe.\")\n",
        "\n",
        "    def falar(self):\n",
        "        print(\"auau\")\n",
        "\n",
        "\n",
        "def criar_cachorro():\n",
        "    c = Cachorro(\"Zeus\", \"Branco e preto\", False)\n",
        "    print(c.nome)\n",
        "\n",
        "\n",
        "c = Cachorro(\"Chappie\", \"amarelo\")\n",
        "c.falar()\n",
        "\n",
        "print(\"Ola mundo\")\n",
        "\n",
        "del c\n",
        "\n",
        "print(\"Ola mundo\")\n",
        "print(\"Ola mundo\")\n",
        "print(\"Ola mundo\")\n",
        "\n",
        "# criar_cachorro()"
      ],
      "metadata": {
        "colab": {
          "base_uri": "https://localhost:8080/"
        },
        "id": "iJuDpLY9pRv7",
        "outputId": "ecbf7cde-1453-45cf-aae2-39337967a6c0"
      },
      "execution_count": 2,
      "outputs": [
        {
          "output_type": "stream",
          "name": "stdout",
          "text": [
            "Inicializando a classe...\n",
            "auau\n",
            "Ola mundo\n",
            "Removendo a instância da classe.\n",
            "Ola mundo\n",
            "Ola mundo\n",
            "Ola mundo\n"
          ]
        }
      ]
    },
    {
      "cell_type": "code",
      "source": [],
      "metadata": {
        "id": "Kd7mCO48pzFB"
      },
      "execution_count": null,
      "outputs": []
    }
  ]
}