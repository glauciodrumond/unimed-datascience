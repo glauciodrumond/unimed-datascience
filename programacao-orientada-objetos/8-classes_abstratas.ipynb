{
  "nbformat": 4,
  "nbformat_minor": 0,
  "metadata": {
    "colab": {
      "provenance": [],
      "authorship_tag": "ABX9TyMYvI5z+H5z0Wv8oPAA1Jwu",
      "include_colab_link": true
    },
    "kernelspec": {
      "name": "python3",
      "display_name": "Python 3"
    },
    "language_info": {
      "name": "python"
    }
  },
  "cells": [
    {
      "cell_type": "markdown",
      "metadata": {
        "id": "view-in-github",
        "colab_type": "text"
      },
      "source": [
        "<a href=\"https://colab.research.google.com/github/glauciodrumond/unimed-datascience/blob/main/programacao-orientada-objetos/8-classes_abstratas.ipynb\" target=\"_parent\"><img src=\"https://colab.research.google.com/assets/colab-badge.svg\" alt=\"Open In Colab\"/></a>"
      ]
    },
    {
      "cell_type": "markdown",
      "source": [
        "# O que são interfaces?\n",
        "\n",
        "Interfaces definem o que uma classe deve fazer e não como."
      ],
      "metadata": {
        "id": "UXZtQqSNJfS_"
      }
    },
    {
      "cell_type": "markdown",
      "source": [
        "## Python tem interface?\n",
        "\n",
        "O conceito de interface é definir um contrato, onde são declarados os métodos (o que deve ser feito) e suas respectivas assinaturas.\n",
        "\n",
        "Em Python utilizamos classes abstratas para criar contratos. \n",
        "\n",
        "Classes abstratas não podem ser instanciadas."
      ],
      "metadata": {
        "id": "Ib7loQEnJyCP"
      }
    },
    {
      "cell_type": "markdown",
      "source": [
        "# Criando classes abstratas com o módulo ABC"
      ],
      "metadata": {
        "id": "lHDJ1vSvKf_9"
      }
    },
    {
      "cell_type": "markdown",
      "source": [
        "## ABC\n",
        "\n",
        "Por padrão, o Python não fornece classes abstratas. Python vem com um módulo que fornece a base para definir as classes abstratas, e o nome do módulo é ABC.\n",
        "\n",
        "O ABC funciona decorando métodos da classe base como abstratos e, em seguida, registrando classes concretas como implementações da base abstrata.\n",
        "\n",
        "Um método se torna abstrato quando decorando com @abstractmethod"
      ],
      "metadata": {
        "id": "w-2AplkOKmc9"
      }
    },
    {
      "cell_type": "code",
      "execution_count": 1,
      "metadata": {
        "colab": {
          "base_uri": "https://localhost:8080/"
        },
        "id": "V1pZlnpMJaCD",
        "outputId": "86afaf0c-b9bf-4c97-b3d6-8f1271c9db36"
      },
      "outputs": [
        {
          "output_type": "stream",
          "name": "stdout",
          "text": [
            "Ligando a TV...\n",
            "Ligada!\n",
            "Desligando a TV...\n",
            "Desligada!\n",
            "Philco\n",
            "Ligando o Ar Condicionado...\n",
            "Ligado!\n",
            "Desligando o Ar Condicionado...\n",
            "Desligado!\n",
            "LG\n"
          ]
        }
      ],
      "source": [
        "from abc import ABC, abstractmethod, abstractproperty\n",
        "\n",
        "\n",
        "class ControleRemoto(ABC):\n",
        "    @abstractmethod\n",
        "    def ligar(self):\n",
        "        pass\n",
        "\n",
        "    @abstractmethod\n",
        "    def desligar(self):\n",
        "        pass\n",
        "\n",
        "    @property\n",
        "    @abstractproperty\n",
        "    def marca(self):\n",
        "        pass\n",
        "\n",
        "\n",
        "class ControleTV(ControleRemoto):\n",
        "    def ligar(self):\n",
        "        print(\"Ligando a TV...\")\n",
        "        print(\"Ligada!\")\n",
        "\n",
        "    def desligar(self):\n",
        "        print(\"Desligando a TV...\")\n",
        "        print(\"Desligada!\")\n",
        "\n",
        "    @property\n",
        "    def marca(self):\n",
        "        return \"Philco\"\n",
        "\n",
        "\n",
        "class ControleArCondicionado(ControleRemoto):\n",
        "    def ligar(self):\n",
        "        print(\"Ligando o Ar Condicionado...\")\n",
        "        print(\"Ligado!\")\n",
        "\n",
        "    def desligar(self):\n",
        "        print(\"Desligando o Ar Condicionado...\")\n",
        "        print(\"Desligado!\")\n",
        "\n",
        "    @property\n",
        "    def marca(self):\n",
        "        return \"LG\"\n",
        "\n",
        "\n",
        "controle = ControleTV()\n",
        "controle.ligar()\n",
        "controle.desligar()\n",
        "print(controle.marca)\n",
        "\n",
        "\n",
        "controle = ControleArCondicionado()\n",
        "controle.ligar()\n",
        "controle.desligar()\n",
        "print(controle.marca)"
      ]
    }
  ]
}