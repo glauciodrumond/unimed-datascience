{
  "nbformat": 4,
  "nbformat_minor": 0,
  "metadata": {
    "colab": {
      "provenance": [],
      "collapsed_sections": [],
      "authorship_tag": "ABX9TyNh5aZ/c2010M23jLNlz8Q0",
      "include_colab_link": true
    },
    "kernelspec": {
      "name": "python3",
      "display_name": "Python 3"
    },
    "language_info": {
      "name": "python"
    }
  },
  "cells": [
    {
      "cell_type": "markdown",
      "metadata": {
        "id": "view-in-github",
        "colab_type": "text"
      },
      "source": [
        "<a href=\"https://colab.research.google.com/github/glauciodrumond/unimed-datascience/blob/main/desafios-iniciais/Desafios_Iniciais.ipynb\" target=\"_parent\"><img src=\"https://colab.research.google.com/assets/colab-badge.svg\" alt=\"Open In Colab\"/></a>"
      ]
    },
    {
      "cell_type": "markdown",
      "source": [
        "# Desafio: As duas torres\n",
        "Saruman, o Branco, um grande mago da Terra-média, traiu os bons costumes e se filiou ao lorde do mal, Sauron. \n",
        "\n",
        "Sauron comanda a torre de Minas Morgul, que abriga um dos seus mais temidos servos, o Rei Bruxo de Angmar, um dos Nazgûl (antigos reis humanos que foram corrompidos pelos poderes dos anéis de Sauron). \n",
        "\n",
        "Saruman comanda a torre de Orthanc, onde cria seus servos Uruk-hai, orcs mais terríveis que os convencionais. Para comunicação, eles utilizam as relíquias esféricas chamadas Palantír, que ficam no topo de suas torres.\n",
        "\n",
        "\n",
        "A Terra-média avança cada vez mais em tecnologia, muito impulsionada pelas guerras que a acometem diariamente. Um dos problemas que tem atrapalhado sua população é a Interferência de Comunicação Mágica (ICM). \n",
        "\n",
        "Os estudiosos de Minas Tirith, grande cidadela de Gondor, concluíram que para calcular o ICM para Palantír’s, basta dividir a distância entre os dois Palantír’s, pela soma do diâmetro dos mesmos. \n",
        "\n",
        "Gandalf, o Cinza, chegou a questionar essa conclusão, alegando que ela não fazia muito sentido, mas ele mesmo concluiu que dar sentido às coisas não faz sentido.\n",
        "\n",
        "Saruman e Sauron precisam de uma comunicação estável, pois têm medo que Frodo e seus amigos consigam atrapalhar seus planos, portanto, querem saber quanto de ICM há na comunicação de seus Palantír’s, para que saibam quanto de magia devem empregar na comunicação.\n",
        "\n",
        "## Entrada\n",
        "A entrada é composta por 3 inteiros, N(0 < N < 10000), X e Y(0 < X, Y < 100), que indicam, respectivamente, a distância entre os Palantír, o diâmetro do Palantír de Sauron e o diâmetro do Palantír de Saruman.\n",
        "\n",
        "## Saída\n",
        "Um valor real indicando o ICM da comunicação dos Palatír de Sauron e Saruman, com 2 casas decimais."
      ],
      "metadata": {
        "id": "hqafpEH9Pi42"
      }
    },
    {
      "cell_type": "code",
      "execution_count": 1,
      "metadata": {
        "colab": {
          "base_uri": "https://localhost:8080/"
        },
        "id": "ZkjEniljPdlP",
        "outputId": "b5210219-4dda-439b-c304-e2fc6edcd241"
      },
      "outputs": [
        {
          "output_type": "stream",
          "name": "stdout",
          "text": [
            "100 2 2\n",
            "25.00\n"
          ]
        }
      ],
      "source": [
        "# DICAS SOBRE PYTHON:\n",
        "# FUNÇÃO input(): Ela recebe como parâmetro uma String que será visível ao usuário, \n",
        "# onde geralmente informa que tipo de informação ele está esperando receber;\n",
        "# FUNÇÃO print(): Ela é a responsável por imprimir os dados e informar os valores no terminal;\n",
        "# MÉTODO split(): permite dividir o conteúdo da variável de acordo com as condições especificadas \n",
        "# em cada parâmetro da função ou com os valores predefinidos por padrão;\n",
        "\n",
        "# Abaixo segue um exemplo de código que você pode ou não utilizar\n",
        "entrada = input().split()\n",
        "\n",
        "distancia = int(entrada[0])\n",
        "diametro1 = int(entrada[1])\n",
        "diametro2 = int(entrada[2])\n",
        "\n",
        "# TODO: Calcule o ICM da comunicação dos Palatír de Sauron e Saruman, com 2 casas decimais no espaço #em branco abaixo:\n",
        "\n",
        "icm = distancia / (diametro1 + diametro2)\n",
        "\n",
        "print ('{:.2f}'.format(icm))"
      ]
    },
    {
      "cell_type": "markdown",
      "source": [
        "# Desafio: Cachorros Quente\n",
        "Em 2012 foi alcançado um novo recorde mundial na famosa Competição de Cachorros-Quentes do Nathan: o campeão, Joey Chestnut, devorou 68 cachorros-quentes em dez minutos, um aumento incrível em relação aos 62 sanduíches devorados pelo mesmo Chestnut em 2011.\n",
        "\n",
        "O restaurante Nathan’s Famous Corporation, localizado no Brooklyn, NY, é o responsável pela competição. Eles produzem deliciosos cachorros-quentes, mundialmente famosos, mas quando o assunto é matemática eles não são tão bons. Eles desejam ser listados no Livro de Recordes do Guinness, mas para isso devem preencher um formulário descrevendo os fatos básicos da competição. Em particular, eles devem informar o número médio de cachorros-quentes consumidos pelos participantes durante a competição.\n",
        "\n",
        "Você pode ajudá-los? Eles prometeram pagá-lo com um dos seus saborosos cachorros-quentes. Dados o número total de cachorros-quentes consumidos e o número total de participantes na competição, você deve escrever um programa para determinar o número médio de cachorros-quentes consumidos pelos participantes.\n",
        "\n",
        "## Entrada\n",
        "A entrada consiste de uma única linha que contém dois inteiros H e P (1 ≤ H, P ≤ 1000) indicando respectivamente o número total de cachorros-quentes consumidos e o número total de participantes na competição.\n",
        "\n",
        "## Saída\n",
        "Seu programa deve produzir uma única linha com um número racional representando o número médio de cachorros-quentes consumidos pelos participantes. O resultado deve ser escrito como um número racional com exatamente dois dígitos após o ponto decimal, arredondado se necessário."
      ],
      "metadata": {
        "id": "poFXypaIP21m"
      }
    },
    {
      "cell_type": "code",
      "source": [
        "# DICAS SOBRE PYTHON:\n",
        "# FUNÇÃO input(): Ela recebe como parâmetro uma String que será visível ao usuário, \n",
        "# onde geralmente informa que tipo de informação ele está esperando receber;\n",
        "# FUNÇÃO print(): Ela é a responsável por imprimir os dados e informar os valores no terminal;\n",
        "# MÉTODO split(): permite dividir o conteúdo da variável de acordo com as condições especificadas \n",
        "# em cada parâmetro da função ou com os valores predefinidos por padrão;\n",
        "\n",
        "# Abaixo segue um exemplo de código que você pode ou não utilizar\n",
        "valores = input().split() \n",
        "\n",
        "# TODO:  Calcule a média de cachorros quentes consumidas por participante e imprima o valor com DUAS casas decimais.\n",
        "\n",
        "total_participantes = int(valores[0])\n",
        "total_cachorro_quente = int(valores[1])\n",
        "\n",
        "media = total_participantes / total_cachorro_quente\n",
        "\n",
        "print ('{:.2f}'.format(media))"
      ],
      "metadata": {
        "colab": {
          "base_uri": "https://localhost:8080/"
        },
        "id": "ZMAfu2UCQDKl",
        "outputId": "81a357b4-7cca-4db6-c5d8-0e1fcb6aad3c"
      },
      "execution_count": 2,
      "outputs": [
        {
          "output_type": "stream",
          "name": "stdout",
          "text": [
            "10 90\n",
            "0.11\n"
          ]
        }
      ]
    },
    {
      "cell_type": "markdown",
      "source": [
        "# Desafio: Cálculo viagem\n",
        "Rubens quer calcular e mostrar a quantidade de litros de combustível gastos em uma viagem de carro, sendo que seu carro faz 12 KM/L. Como ele não sabe fazer um programa que o auxilie nessa missão, ele te pede ajuda. Para efetuar o cálculo, deve-se fornecer o tempo gasto em horas na viagem e a velocidade média durante a mesma em km/h. Assim, você conseguirá passar para Rubens qual a distância percorrida e, em seguida, calcular quantos litros serão necessários para a viagem que ele quer fazer. Mostre o valor com 3 casas decimais após o ponto.\n",
        "\n",
        "## Entrada\n",
        "O arquivo de entrada contém dois inteiros. O primeiro é o tempo gasto na viagem em horas e o segundo é a velocidade média durante a mesma em km/h.\n",
        "\n",
        "## Saída\n",
        "Imprima a quantidade de litros necessária para realizar a viagem, com três dígitos após o ponto decimal"
      ],
      "metadata": {
        "id": "I50POjZsQE2h"
      }
    },
    {
      "cell_type": "code",
      "source": [
        "# DICAS SOBRE PYTHON:\n",
        "# FUNÇÃO input(): Ela recebe como parâmetro uma String que será visível ao usuário, \n",
        "# onde geralmente informa que tipo de informação ele está esperando receber;\n",
        "# FUNÇÃO print(): Ela é a responsável por imprimir os dados e informar os valores no terminal;\n",
        "# MÉTODO split(): permite dividir o conteúdo da variável de acordo com as condições especificadas \n",
        "# em cada parâmetro da função ou com os valores predefinidos por padrão;\n",
        "\n",
        "# Abaixo segue um exemplo de código que você pode ou não utilizar\n",
        "valores = input().split()\n",
        "\n",
        "# TODO:  Calcule quantidade de litros necessária para realizar a viagem e imprima com TRÊS dígitos após o ponto decimal\n",
        "\n",
        "tempo_viagem = int(valores[0])\n",
        "velocidade_media = int(valores[1])\n",
        "\n",
        "distancia = velocidade_media * tempo_viagem\n",
        "\n",
        "litros = distancia / 12\n",
        "\n",
        "print ('{:.3f}'.format(litros))"
      ],
      "metadata": {
        "colab": {
          "base_uri": "https://localhost:8080/"
        },
        "id": "Q5Aox2aMQOkI",
        "outputId": "c6dd2bab-eeb3-405f-cd91-73d962fbac0f"
      },
      "execution_count": 3,
      "outputs": [
        {
          "output_type": "stream",
          "name": "stdout",
          "text": [
            "10 85\n",
            "70.833\n"
          ]
        }
      ]
    }
  ]
}