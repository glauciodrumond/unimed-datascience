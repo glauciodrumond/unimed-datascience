{
  "nbformat": 4,
  "nbformat_minor": 0,
  "metadata": {
    "colab": {
      "provenance": [],
      "collapsed_sections": [],
      "authorship_tag": "ABX9TyPePoimNFM7NAFnMYVehMM7",
      "include_colab_link": true
    },
    "kernelspec": {
      "name": "python3",
      "display_name": "Python 3"
    },
    "language_info": {
      "name": "python"
    }
  },
  "cells": [
    {
      "cell_type": "markdown",
      "metadata": {
        "id": "view-in-github",
        "colab_type": "text"
      },
      "source": [
        "<a href=\"https://colab.research.google.com/github/glauciodrumond/unimed-datascience/blob/main/estrutura-de-dados/strings.ipynb\" target=\"_parent\"><img src=\"https://colab.research.google.com/assets/colab-badge.svg\" alt=\"Open In Colab\"/></a>"
      ]
    },
    {
      "cell_type": "markdown",
      "source": [
        "# Dominando Strings e Fatiamento"
      ],
      "metadata": {
        "id": "7yjSZ5RW9vC8"
      }
    },
    {
      "cell_type": "markdown",
      "source": [
        "# String e Fatiamento\n",
        "\n",
        "## Objetivo Geral\n",
        "\n",
        "Conhecer métodos úteis para manipular objetos do tipo string, como interpolar valores de variáveis e entender como funciona o fatiamento."
      ],
      "metadata": {
        "id": "e292nXrbex9P"
      }
    },
    {
      "cell_type": "markdown",
      "source": [
        "## Conhecendo métodos úteis da classe string\n",
        "\n",
        "A classe String do Python é famosa por ser rica em métodos e possuir uma interface muito fácil de trabalhar.\n",
        "\n",
        "Em algumas linguagens manipular sequências de caracteres não é um trabalho trivial, porém, em Python esse trabalho é muito simples."
      ],
      "metadata": {
        "id": "5YKpY6AtgDjG"
      }
    },
    {
      "cell_type": "markdown",
      "source": [
        "## Maiúscula, minúscula e título"
      ],
      "metadata": {
        "id": "WA6dk8S9hB9m"
      }
    },
    {
      "cell_type": "code",
      "execution_count": null,
      "metadata": {
        "colab": {
          "base_uri": "https://localhost:8080/"
        },
        "id": "irEm4iqXesR_",
        "outputId": "09d97248-f48f-4b10-8f2e-179d2c2db707"
      },
      "outputs": [
        {
          "output_type": "stream",
          "name": "stdout",
          "text": [
            "PYTHON\n",
            "python\n",
            "Python\n"
          ]
        }
      ],
      "source": [
        "curso = \"pYtHon\"\n",
        "\n",
        "# Imprime todas as letras maiúsculas\n",
        "print(curso.upper())\n",
        "\n",
        "# Imprime todas as letras minúsculas\n",
        "print(curso.lower())\n",
        "\n",
        "# Imprime todas somente a primeira letra maiúscula\n",
        "print(curso.title())"
      ]
    },
    {
      "cell_type": "markdown",
      "source": [
        "## Eliminando espaços em branco"
      ],
      "metadata": {
        "id": "2cyR0ojzh7kY"
      }
    },
    {
      "cell_type": "code",
      "source": [
        "curso = \"    Python  \"\n",
        "\n",
        "# remove espaços em branco dos dois lados\n",
        "print(curso.strip())\n",
        "\n",
        "# remove espaços em branco lado esquerdo\n",
        "print(curso.lstrip())\n",
        "\n",
        "# remove espaços em branco lado direito\n",
        "print(curso.rstrip())"
      ],
      "metadata": {
        "colab": {
          "base_uri": "https://localhost:8080/"
        },
        "id": "Ujw7r3lbhUqV",
        "outputId": "e2486b41-82ff-403d-d760-3260a20bba99"
      },
      "execution_count": null,
      "outputs": [
        {
          "output_type": "stream",
          "name": "stdout",
          "text": [
            "Python\n",
            "Python  \n",
            "    Python\n"
          ]
        }
      ]
    },
    {
      "cell_type": "markdown",
      "source": [
        "## Junções e centralização"
      ],
      "metadata": {
        "id": "wnqt0lvXiusK"
      }
    },
    {
      "cell_type": "code",
      "source": [
        "curso = \"Python\"\n",
        "\n",
        "# deixa a palavra com 10 caracteres completando com #\n",
        "print(curso.center(10, \"#\"))\n",
        "\n",
        "# coloca o . entre cada letra\n",
        "print(\".\".join(curso))\n"
      ],
      "metadata": {
        "colab": {
          "base_uri": "https://localhost:8080/"
        },
        "id": "GxE5tr4dijDR",
        "outputId": "41481e42-54c4-4a6b-9110-66b9fec1a4c6"
      },
      "execution_count": null,
      "outputs": [
        {
          "output_type": "stream",
          "name": "stdout",
          "text": [
            "##Python##\n",
            "P.y.t.h.o.n\n"
          ]
        }
      ]
    },
    {
      "cell_type": "markdown",
      "source": [
        "# Interpolação de variáveis\n",
        "\n",
        "Em Python 3 temos 3 formas de interpolar variáveis em strings, a primeira é usando o sinal de %, a segunda é utilizando o método format e a última é utilizando o f string.\n",
        "\n",
        "A primeira forma não é atualmente recomendada e seu uso em Python 3 é raro, por este motivo focaremos nas duas últimas formas.\n"
      ],
      "metadata": {
        "id": "d4sgCVU3jW3C"
      }
    },
    {
      "cell_type": "markdown",
      "source": [
        "## Old style %"
      ],
      "metadata": {
        "id": "dXrb5iTRkTQH"
      }
    },
    {
      "cell_type": "code",
      "source": [
        "nome = \"Guilherme\"\n",
        "idade = 28\n",
        "profissao = \"Programador\"\n",
        "linguagem = \"Python\"\n",
        "\n",
        "print(\"Olá, me chamo %s. Eu tenho %d anos de idade, trabalho como %s e \\nestou matriculado no curso de %s.\" % (nome, idade, profissao, linguagem))"
      ],
      "metadata": {
        "colab": {
          "base_uri": "https://localhost:8080/"
        },
        "id": "ChUFgazQx5qc",
        "outputId": "eb074562-e568-4583-f35e-56597a38897d"
      },
      "execution_count": null,
      "outputs": [
        {
          "output_type": "stream",
          "name": "stdout",
          "text": [
            "Olá, me chamo Guilherme. Eu tenho 28 anos de idade, trabalho como Programador e \n",
            "estou matriculado no curso de Python.\n"
          ]
        }
      ]
    },
    {
      "cell_type": "markdown",
      "source": [
        "## Método format"
      ],
      "metadata": {
        "id": "PRPrzaDkmB5w"
      }
    },
    {
      "cell_type": "code",
      "source": [
        "nome = \"Guilherme\"\n",
        "idade = 28\n",
        "profissao = \"Programador\"\n",
        "linguagem = \"Python\"\n",
        "\n",
        "print(\"Olá, me chamo {}. Eu tenho {} anos de idade, trabalho como {} e \\nestou matriculado no curso de {}.\" .format(nome, idade, profissao, linguagem))\n",
        "print(\"\\nOlá, me chamo {3}. Eu tenho {2} anos de idade, trabalho como {1} e \\nestou matriculado no curso de {0}.\" .format(linguagem, profissao, idade, nome))"
      ],
      "metadata": {
        "colab": {
          "base_uri": "https://localhost:8080/"
        },
        "id": "WAKxNqmDjQ6R",
        "outputId": "4ee7a746-06cc-441c-a9e8-69558ab50c27"
      },
      "execution_count": null,
      "outputs": [
        {
          "output_type": "stream",
          "name": "stdout",
          "text": [
            "Olá, me chamo Guilherme. Eu tenho 28 anos de idade, trabalho como Programador e \n",
            "estou matriculado no curso de Python.\n",
            "\n",
            "Olá, me chamo Guilherme. Eu tenho 28 anos de idade, trabalho como Programador e \n",
            "estou matriculado no curso de Python.\n"
          ]
        }
      ]
    },
    {
      "cell_type": "markdown",
      "source": [
        "## Método "
      ],
      "metadata": {
        "id": "VUNzjgtAyic2"
      }
    },
    {
      "cell_type": "code",
      "source": [
        "nome = \"Guilherme\"\n",
        "idade = 28\n",
        "profissao = \"Programador\"\n",
        "linguagem = \"Python\"\n",
        "\n",
        "print(\"Olá, me chamo {}. Eu tenho {} anos de idade, trabalho como {} e \\nestou matriculado no curso de {}.\\n\" .format(nome, idade, profissao, linguagem))\n",
        "print(\"Olá, me chamo {3}. Eu tenho {2} anos de idade, trabalho como {1} e \\nestou matriculado no curso de {0}.\\n\" .format(linguagem, profissao, idade, nome))\n",
        "print(\"Olá, me chamo {nome}. Eu tenho {idade} anos de idade, trabalho como {profissao} e \\nestou matriculado no curso de {linguagem}.\" .format(nome=nome, idade=idade, profissao=profissao, linguagem=linguagem))"
      ],
      "metadata": {
        "colab": {
          "base_uri": "https://localhost:8080/"
        },
        "id": "C66fhBNBmS_V",
        "outputId": "c83aeba1-b3a9-4fd7-f0a6-1a9f6b680c8e"
      },
      "execution_count": null,
      "outputs": [
        {
          "output_type": "stream",
          "name": "stdout",
          "text": [
            "Olá, me chamo Guilherme. Eu tenho 28 anos de idade, trabalho como Programador e \n",
            "estou matriculado no curso de Python.\n",
            "\n",
            "Olá, me chamo Guilherme. Eu tenho 28 anos de idade, trabalho como Programador e \n",
            "estou matriculado no curso de Python.\n",
            "\n",
            "Olá, me chamo Guilherme. Eu tenho 28 anos de idade, trabalho como Programador e \n",
            "estou matriculado no curso de Python.\n"
          ]
        }
      ]
    },
    {
      "cell_type": "markdown",
      "source": [
        "## f-string"
      ],
      "metadata": {
        "id": "cw7A4DDNz3hu"
      }
    },
    {
      "cell_type": "code",
      "source": [
        "nome = \"Guilherme\"\n",
        "idade = 28\n",
        "profissao = \"Programador\"\n",
        "linguagem = \"Python\"\n",
        "\n",
        "print(f\"Olá, me chamo {nome}. Eu tenho {idade} anos de idade, trabalho como {profissao} e \\nestou matriculado no curso de {linguagem}.\")"
      ],
      "metadata": {
        "colab": {
          "base_uri": "https://localhost:8080/"
        },
        "id": "bbW3YUSxzvFX",
        "outputId": "2a216f5b-dcd9-47e3-f4af-1e3569e80c59"
      },
      "execution_count": null,
      "outputs": [
        {
          "output_type": "stream",
          "name": "stdout",
          "text": [
            "Olá, me chamo Guilherme. Eu tenho 28 anos de idade, trabalho como Programador e \n",
            "estou matriculado no curso de Python.\n"
          ]
        }
      ]
    },
    {
      "cell_type": "markdown",
      "source": [
        "## Formatar strings com f-string"
      ],
      "metadata": {
        "id": "1J5p6yxP0Mtb"
      }
    },
    {
      "cell_type": "code",
      "source": [
        "PI = 3.14159\n",
        "\n",
        "# dois caracteres após a virgula f refere ao float\n",
        "print(f\"Valor de PI: {PI:.2f}\")\n",
        "\n",
        "# 10 refere a espaços em branco\n",
        "print(f\"Valor de PI: {PI:10.2f}\")"
      ],
      "metadata": {
        "colab": {
          "base_uri": "https://localhost:8080/"
        },
        "id": "qO_FtNDS0CTx",
        "outputId": "cb5599ed-a5cc-4571-e306-111ba59e82e5"
      },
      "execution_count": null,
      "outputs": [
        {
          "output_type": "stream",
          "name": "stdout",
          "text": [
            "Valor de PI: 3.14\n",
            "Valor de PI:       3.14\n"
          ]
        }
      ]
    },
    {
      "cell_type": "markdown",
      "source": [
        "# Fatiamento de string\n",
        "\n",
        "Fatiamento de strings é uma técnica utilizada para retornar substrings (partes da string original), informando inicio (start), fim (stop) e passo (step): [start: stop [, step]]"
      ],
      "metadata": {
        "id": "E6MJvaU64DJP"
      }
    },
    {
      "cell_type": "code",
      "source": [
        "# string\n",
        "nome = \"Guilherme Arthur de Carvalho\"\n",
        "\n",
        "# primeiro caracter\n",
        "print(nome[0])\n",
        "\n",
        "# nao informando o start ele considera posição zero\n",
        "print(nome[:9])\n",
        "\n",
        "# informando o inicio e não informado o fim\n",
        "print(nome[10:])\n",
        "\n",
        "# informando o intervalo desejado\n",
        "print(nome[10:16])\n",
        "\n",
        "# intervalo com step\n",
        "print(nome[10:16:2])\n",
        "\n",
        "# retorna a copia da string\n",
        "print(nome[:])\n",
        "\n",
        "# retorna o espalhamento da string\n",
        "print(nome[::-1])"
      ],
      "metadata": {
        "colab": {
          "base_uri": "https://localhost:8080/"
        },
        "id": "oEtaLaPp0kt1",
        "outputId": "4625988c-b710-406d-d5db-9a7edc02ed6d"
      },
      "execution_count": null,
      "outputs": [
        {
          "output_type": "stream",
          "name": "stdout",
          "text": [
            "G\n",
            "Guilherme\n",
            "Arthur de Carvalho\n",
            "Arthur\n",
            "Atu\n",
            "Guilherme Arthur de Carvalho\n",
            "ohlavraC ed ruhtrA emrehliuG\n"
          ]
        }
      ]
    },
    {
      "cell_type": "markdown",
      "source": [
        "## Strings de múltiplas linhas\n",
        "\n",
        "Strings de múltiplas linhas são definidas informando 3 aspas simples ou duplas durante a atribuição.\n",
        "\n",
        "Elas podem ocupar várias linhas do código, e todos os espaços em branco são incluídos na string final."
      ],
      "metadata": {
        "id": "kao2YoAb6VMy"
      }
    },
    {
      "cell_type": "code",
      "source": [
        "nome = \"Guilherme\"\n",
        "\n",
        "mensagem = f\"\"\"\n",
        "Olá meu nome é {nome}, \n",
        "Eu estou aprendendo Python\n",
        "\"\"\"\n",
        "\n",
        "print(mensagem)"
      ],
      "metadata": {
        "colab": {
          "base_uri": "https://localhost:8080/"
        },
        "id": "x21fANN95-ao",
        "outputId": "caf0ac05-9731-4eff-e594-322efaed9b86"
      },
      "execution_count": null,
      "outputs": [
        {
          "output_type": "stream",
          "name": "stdout",
          "text": [
            "\n",
            "Olá meu nome é Guilherme, \n",
            "Eu estou aprendendo Python\n",
            "\n"
          ]
        }
      ]
    },
    {
      "cell_type": "code",
      "source": [
        "nome = \"Guilherme\"\n",
        "\n",
        "mensagem = f'''\n",
        "   Olá meu nome é {nome}, \n",
        "Eu estou aprendendo Python.\n",
        "    Essa mensagem tem diferentes recuos.\n",
        "'''\n",
        "\n",
        "print(mensagem)"
      ],
      "metadata": {
        "colab": {
          "base_uri": "https://localhost:8080/"
        },
        "id": "SC-YL5lL7Jgu",
        "outputId": "918535e5-828d-4677-df97-6a6883d6e050"
      },
      "execution_count": null,
      "outputs": [
        {
          "output_type": "stream",
          "name": "stdout",
          "text": [
            "\n",
            "   Olá meu nome é Guilherme, \n",
            "Eu estou aprendendo Python.\n",
            "    Essa mensagem tem diferentes recuos.\n",
            "\n"
          ]
        }
      ]
    },
    {
      "cell_type": "code",
      "source": [
        "print(\n",
        "    \"\"\"\n",
        "    ====== Menu ======\n",
        "\n",
        "    1 - Depositar\n",
        "    2 - Sacar\n",
        "    3 - Sair\n",
        "\n",
        "    ==================\n",
        "\n",
        "            Obrigado por usar nosso sistema!\n",
        "\n",
        "    \"\"\")"
      ],
      "metadata": {
        "colab": {
          "base_uri": "https://localhost:8080/"
        },
        "id": "JU2vY0887jkf",
        "outputId": "616f5d99-de2a-495a-9eaf-0f39759901eb"
      },
      "execution_count": null,
      "outputs": [
        {
          "output_type": "stream",
          "name": "stdout",
          "text": [
            "\n",
            "    ====== Menu ======\n",
            "\n",
            "    1 - Depositar\n",
            "    2 - Sacar\n",
            "    3 - Sair\n",
            "\n",
            "    ==================\n",
            "\n",
            "            Obrigado por usar nosso sistema!\n",
            "\n",
            "    \n"
          ]
        }
      ]
    }
  ]
}