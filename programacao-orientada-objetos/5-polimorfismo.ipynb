{
  "nbformat": 4,
  "nbformat_minor": 0,
  "metadata": {
    "colab": {
      "provenance": [],
      "authorship_tag": "ABX9TyOp18mLDqcDzHbKhz9gekAY",
      "include_colab_link": true
    },
    "kernelspec": {
      "name": "python3",
      "display_name": "Python 3"
    },
    "language_info": {
      "name": "python"
    }
  },
  "cells": [
    {
      "cell_type": "markdown",
      "metadata": {
        "id": "view-in-github",
        "colab_type": "text"
      },
      "source": [
        "<a href=\"https://colab.research.google.com/github/glauciodrumond/unimed-datascience/blob/main/programacao-orientada-objetos/5-polimorfismo.ipynb\" target=\"_parent\"><img src=\"https://colab.research.google.com/assets/colab-badge.svg\" alt=\"Open In Colab\"/></a>"
      ]
    },
    {
      "cell_type": "markdown",
      "source": [
        "# Polimorfismo\n",
        "\n",
        "## Muitas formas!\n",
        "\n",
        "A palavra polimorfismo significa ter muitas formas. Na programação, polimorfismo significa ter o mesmo nome de função (mas assinaturas diferentes) sendo usado para tipos diferentes."
      ],
      "metadata": {
        "id": "--Dj_cqb8abX"
      }
    },
    {
      "cell_type": "code",
      "source": [
        "# mesma função usado para tamanho de \n",
        "# uma string e tamanho de uma lista\n",
        "print(len(\"python\"))\n",
        "print(len([10,20,30]))"
      ],
      "metadata": {
        "colab": {
          "base_uri": "https://localhost:8080/"
        },
        "id": "6-Gr0X6H9XxB",
        "outputId": "d272cab3-c2a9-412a-c1d5-321c4398a099"
      },
      "execution_count": 3,
      "outputs": [
        {
          "output_type": "stream",
          "name": "stdout",
          "text": [
            "6\n",
            "3\n"
          ]
        }
      ]
    },
    {
      "cell_type": "markdown",
      "source": [
        "## Mesmo método com comportamento diferente\n",
        "\n",
        "Na herança, a classe fillha herda os métodos da classe pai. No entanto, é possível modificar um método em uma classe filha herdade da classe pai.\n",
        "\n",
        "Isso é particulamente útil nos casos em que o método herdado da classe pai não se encaixa perfeitamente na classe filha."
      ],
      "metadata": {
        "id": "2uSCShxB83s5"
      }
    },
    {
      "cell_type": "code",
      "execution_count": 4,
      "metadata": {
        "colab": {
          "base_uri": "https://localhost:8080/"
        },
        "id": "-W3glPnb8VzZ",
        "outputId": "7689b7ce-7332-4151-bf08-103d32377677"
      },
      "outputs": [
        {
          "output_type": "stream",
          "name": "stdout",
          "text": [
            "Pardal pode voar\n",
            "Avestruz não pode voar\n",
            "Avião está decolando...\n"
          ]
        }
      ],
      "source": [
        "class Passaro:\n",
        "    # metodo voar\n",
        "    def voar(self):\n",
        "        print(\"Voando...\")\n",
        "\n",
        "\n",
        "# pardal filha de passaro\n",
        "class Pardal(Passaro):\n",
        "    # pardal implementa o metodo voar\n",
        "    def voar(self):\n",
        "        print(\"Pardal pode voar\")\n",
        "\n",
        "\n",
        "# avetruz também filha de passaro\n",
        "class Avestruz(Passaro):\n",
        "    # metodo print msg nao pode voar\n",
        "    def voar(self):\n",
        "        print(\"Avestruz não pode voar\")\n",
        "\n",
        "\n",
        "# NOTE: exemplo ruim do uso de herança para \"ganhar\" o método voar\n",
        "class Aviao(Passaro):\n",
        "    def voar(self):\n",
        "        print(\"Avião está decolando...\")\n",
        "\n",
        "'''\n",
        "conceito de polimorfismo esta aqui\n",
        "recebo um objeto e todo objeto que tem plano_de_voo\n",
        "tem que ter o método voar implementado\n",
        "todo objeto é filho passaro\n",
        "'''\n",
        " \n",
        "\n",
        "def plano_voo(obj):\n",
        "    obj.voar()\n",
        "\n",
        "\n",
        "plano_voo(Pardal())\n",
        "plano_voo(Avestruz())\n",
        "plano_voo(Aviao())"
      ]
    }
  ]
}