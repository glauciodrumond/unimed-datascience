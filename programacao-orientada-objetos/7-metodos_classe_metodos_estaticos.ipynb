{
  "nbformat": 4,
  "nbformat_minor": 0,
  "metadata": {
    "colab": {
      "provenance": [],
      "authorship_tag": "ABX9TyOFGQIFxKCic68uc1p/wVlI",
      "include_colab_link": true
    },
    "kernelspec": {
      "name": "python3",
      "display_name": "Python 3"
    },
    "language_info": {
      "name": "python"
    }
  },
  "cells": [
    {
      "cell_type": "markdown",
      "metadata": {
        "id": "view-in-github",
        "colab_type": "text"
      },
      "source": [
        "<a href=\"https://colab.research.google.com/github/glauciodrumond/unimed-datascience/blob/main/programacao-orientada-objetos/7-metodos_classe_metodos_estaticos.ipynb\" target=\"_parent\"><img src=\"https://colab.research.google.com/assets/colab-badge.svg\" alt=\"Open In Colab\"/></a>"
      ]
    },
    {
      "cell_type": "markdown",
      "source": [
        "# Métodos de classe e métodos estáticos\n",
        "\n"
      ],
      "metadata": {
        "id": "Qv4_6RDYFiGe"
      }
    },
    {
      "cell_type": "markdown",
      "source": [
        "## Métodos de classe\n",
        "\n",
        "Estão ligados à classe e não ao objeto. Eles têm acesso ao estado da classe, pois recebem um parâmetro que aponta para a classe e não para a instância do objeto."
      ],
      "metadata": {
        "id": "qkONSfUSFqmH"
      }
    },
    {
      "cell_type": "markdown",
      "source": [
        "## Métodos estáticos\n",
        "\n",
        "Um método estático não recebe um primeiro argumento explícito. Ele também é um método vinculado à classe e não ao objeto da classe.\n",
        "\n",
        "Esse método não pode acessar ou modificar o estado da classe. Ele está presente em uma classe porque faz sentido que o método esteja presente na classe."
      ],
      "metadata": {
        "id": "pahA6bjzF8ww"
      }
    },
    {
      "cell_type": "markdown",
      "source": [
        "## Métodos de classe x métodos estáticos\n",
        "\n",
        "\n",
        "\n",
        "*   Um método de classe recebe um primeiro parâmetro que aponta para a classe, enquanto um método estático não.\n",
        "\n",
        "*   Um método de classe pode acessar ou modificar o estado da classe enquanto um método estático não pode acessá-lo ou modificá-lo.\n",
        "\n",
        "\n",
        "\n",
        "\n"
      ],
      "metadata": {
        "id": "R5Zky_pwGdnV"
      }
    },
    {
      "cell_type": "markdown",
      "source": [
        "## Quando utilizamos cada método?\n",
        "\n",
        "*   Geralmente usamos o método de classe para criar métodos de fábrica.\n",
        "\n",
        "*   Geralmente usamos o método estáticos para criar funções utilitárias."
      ],
      "metadata": {
        "id": "VPX1Tp-BHZv2"
      }
    },
    {
      "cell_type": "code",
      "execution_count": 1,
      "metadata": {
        "colab": {
          "base_uri": "https://localhost:8080/"
        },
        "id": "cZgTpxDVFaOt",
        "outputId": "7d351e01-8c2f-49eb-f023-341bb5fe4f49"
      },
      "outputs": [
        {
          "output_type": "stream",
          "name": "stdout",
          "text": [
            "Guilherme 28\n",
            "True\n",
            "False\n"
          ]
        }
      ],
      "source": [
        "class Pessoa:\n",
        "    def __init__(self, nome, idade):\n",
        "        self.nome = nome\n",
        "        self.idade = idade\n",
        "\n",
        "    # por convencao usa cls ou inves de self\n",
        "    @classmethod\n",
        "    def criar_de_data_nascimento(cls, ano, mes, dia, nome):\n",
        "        idade = 2022 - ano\n",
        "        return cls(nome, idade)\n",
        "\n",
        "    @staticmethod\n",
        "    def e_maior_idade(idade):\n",
        "        return idade >= 18\n",
        "\n",
        "\n",
        "p = Pessoa.criar_de_data_nascimento(1994, 3, 21, \"Guilherme\")\n",
        "print(p.nome, p.idade)\n",
        "\n",
        "print(Pessoa.e_maior_idade(18))\n",
        "print(Pessoa.e_maior_idade(8))"
      ]
    },
    {
      "cell_type": "code",
      "source": [],
      "metadata": {
        "id": "F0SqgwJzJABr"
      },
      "execution_count": null,
      "outputs": []
    }
  ]
}