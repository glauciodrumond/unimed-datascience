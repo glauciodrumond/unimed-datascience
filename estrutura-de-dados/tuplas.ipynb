{
  "nbformat": 4,
  "nbformat_minor": 0,
  "metadata": {
    "colab": {
      "provenance": [],
      "authorship_tag": "ABX9TyPT8ioF+CKN9/eSC8rJ60Us",
      "include_colab_link": true
    },
    "kernelspec": {
      "name": "python3",
      "display_name": "Python 3"
    }
  },
  "cells": [
    {
      "cell_type": "markdown",
      "metadata": {
        "id": "view-in-github",
        "colab_type": "text"
      },
      "source": [
        "<a href=\"https://colab.research.google.com/github/glauciodrumond/unimed-datascience/blob/main/estrutura-de-dados/tuplas.ipynb\" target=\"_parent\"><img src=\"https://colab.research.google.com/assets/colab-badge.svg\" alt=\"Open In Colab\"/></a>"
      ]
    },
    {
      "cell_type": "markdown",
      "source": [
        "# Criando tuplas\n",
        "\n",
        "Tuplas são estruturas de dados muito parecidas com as listas, a principal diferença é que tuplas são imutáveis enquanto listas são mutaveis.\n",
        "\n",
        "Podemos criar tuplas através da classe `tuple`, ou colocando valores separados por vírgula entre parenteses."
      ],
      "metadata": {
        "id": "AkVKFHZUh2le"
      }
    },
    {
      "cell_type": "code",
      "metadata": {
        "id": "r6V1p3obCmSY",
        "colab": {
          "base_uri": "https://localhost:8080/"
        },
        "outputId": "b4cd5f62-9138-4ae0-d33e-3bedb670eced"
      },
      "source": [
        "frutas = (\n",
        "    \"laranja\",\n",
        "    \"pera\",\n",
        "    \"uva\",\n",
        ")\n",
        "print(frutas)\n",
        "\n",
        "letras = tuple(\"python\")\n",
        "print(letras)\n",
        "\n",
        "numeros = tuple([1, 2, 3, 4])\n",
        "print(numeros)\n",
        "\n",
        "pais = (\"Brasil\",)\n",
        "print(pais)"
      ],
      "execution_count": 1,
      "outputs": [
        {
          "output_type": "stream",
          "name": "stdout",
          "text": [
            "('laranja', 'pera', 'uva')\n",
            "('p', 'y', 't', 'h', 'o', 'n')\n",
            "(1, 2, 3, 4)\n",
            "('Brasil',)\n"
          ]
        }
      ]
    },
    {
      "cell_type": "markdown",
      "source": [
        "## Acesso direto\n",
        "\n",
        "A tupla é uma sequencia, portanto podemos acessar seus dados utilizando índices. Contamos o índice de determinada senquência a partir do zero."
      ],
      "metadata": {
        "id": "l66mtvlKi8xH"
      }
    },
    {
      "cell_type": "code",
      "source": [
        "frutas = (\"maçã\", \"laranja\", \"uva\", \"pera\",)\n",
        "\n",
        "print(frutas[0])  # maçã\n",
        "print(frutas[2])  # uva"
      ],
      "metadata": {
        "colab": {
          "base_uri": "https://localhost:8080/"
        },
        "id": "56ZBYICjiduR",
        "outputId": "9851731a-175b-4f20-be14-2a4d77abeb1b"
      },
      "execution_count": 2,
      "outputs": [
        {
          "output_type": "stream",
          "name": "stdout",
          "text": [
            "maçã\n",
            "uva\n"
          ]
        }
      ]
    },
    {
      "cell_type": "markdown",
      "source": [
        "## Índices negativos\n",
        "\n",
        "Sequências suportam indexação negativa. A contagem começa em -1."
      ],
      "metadata": {
        "id": "8lnL3_jpjPpS"
      }
    },
    {
      "cell_type": "code",
      "source": [
        "frutas = (\n",
        "    \"maçã\",\n",
        "    \"laranja\",\n",
        "    \"uva\",\n",
        "    \"pera\",\n",
        ")\n",
        "\n",
        "print(frutas[-1])  # pera\n",
        "print(frutas[-3])  # laranja"
      ],
      "metadata": {
        "colab": {
          "base_uri": "https://localhost:8080/"
        },
        "id": "S1OfvdjQihL5",
        "outputId": "5358d957-7e74-49e0-d001-af9a7ef20d5c"
      },
      "execution_count": 3,
      "outputs": [
        {
          "output_type": "stream",
          "name": "stdout",
          "text": [
            "pera\n",
            "laranja\n"
          ]
        }
      ]
    },
    {
      "cell_type": "markdown",
      "source": [
        "## Tuplas aninhadas\n",
        "\n",
        "Tuplas podem armazenar todos os tipos de objetos Python, portanto podemos ter tuplas que armazenam outras tuplas.\n",
        "\n",
        "Com isso podemos criar estruturas bidimensionais (tabelas), e acessar informando os índices de linha e coluna."
      ],
      "metadata": {
        "id": "ZWgibfPKjevI"
      }
    },
    {
      "cell_type": "code",
      "source": [
        "matriz = (\n",
        "    (1, \"a\", 2),\n",
        "    (\"b\", 3, 4),\n",
        "    (6, 5, \"c\"),\n",
        ")\n",
        "\n",
        "print(matriz[0])  # (1, \"a\", 2)\n",
        "print(matriz[0][0])  # 1\n",
        "print(matriz[0][-1])  # 2\n",
        "print(matriz[-1][-1])  # \"c\""
      ],
      "metadata": {
        "colab": {
          "base_uri": "https://localhost:8080/"
        },
        "id": "_Fz3cvCvikL_",
        "outputId": "6e40dedc-1dc6-4c72-dd23-90a51a82f31e"
      },
      "execution_count": 4,
      "outputs": [
        {
          "output_type": "stream",
          "name": "stdout",
          "text": [
            "(1, 'a', 2)\n",
            "1\n",
            "2\n",
            "c\n"
          ]
        }
      ]
    },
    {
      "cell_type": "markdown",
      "source": [
        "## Fatiamento\n",
        "\n",
        "Além de acessar elementos diretamente, podemos extrair um conjunto de valores de uma sequência. Para isso basta acessar o índice inicial e/ou final para acessar o conjunto. Podemos informar ainda quantas posições o cursor deve \"pular\" no acaesso."
      ],
      "metadata": {
        "id": "ljt05bP7j6jF"
      }
    },
    {
      "cell_type": "code",
      "source": [
        "tupla = (\"p\", \"y\", \"t\", \"h\", \"o\", \"n\",)\n",
        "\n",
        "print(tupla[2:])  # (\"t\", \"h\", \"o\", \"n\")\n",
        "print(tupla[:2])  # (\"p\", \"y\")\n",
        "print(tupla[1:3])  # (\"y\", \"t\")\n",
        "print(tupla[0:3:2])  # (\"p\", \"t\")\n",
        "print(tupla[::])  # (\"p\", \"y\", \"t\", \"h\", \"o\", \"n\")\n",
        "print(tupla[::-1])  # (\"n\", \"o\", \"h\", \"t\", \"y\", \"p\")"
      ],
      "metadata": {
        "colab": {
          "base_uri": "https://localhost:8080/"
        },
        "id": "OEpBGSNUinMJ",
        "outputId": "75dcd46c-0351-4733-a799-b385bfbfc66d"
      },
      "execution_count": 5,
      "outputs": [
        {
          "output_type": "stream",
          "name": "stdout",
          "text": [
            "('t', 'h', 'o', 'n')\n",
            "('p', 'y')\n",
            "('y', 't')\n",
            "('p', 't')\n",
            "('p', 'y', 't', 'h', 'o', 'n')\n",
            "('n', 'o', 'h', 't', 'y', 'p')\n"
          ]
        }
      ]
    },
    {
      "cell_type": "markdown",
      "source": [
        "## Iterar tuplas\n",
        "\n",
        "A forma mais comum para percorrer os dados de uma tupla é utilizando o comando `for`."
      ],
      "metadata": {
        "id": "_UAjHcHxkd8g"
      }
    },
    {
      "cell_type": "code",
      "source": [
        "carros = (\n",
        "    \"gol\",\n",
        "    \"celta\",\n",
        "    \"palio\",\n",
        ")\n",
        "\n",
        "for carro in carros:\n",
        "    print(carro)"
      ],
      "metadata": {
        "colab": {
          "base_uri": "https://localhost:8080/"
        },
        "id": "zqZ3y1rFiqrY",
        "outputId": "9fed65b3-a79f-43a7-96d4-8cfcd89fff43"
      },
      "execution_count": 11,
      "outputs": [
        {
          "output_type": "stream",
          "name": "stdout",
          "text": [
            "gol\n",
            "celta\n",
            "palio\n"
          ]
        }
      ]
    },
    {
      "cell_type": "markdown",
      "source": [
        "## Função enumerate\n",
        "\n",
        "Às vezes é necessário saber qual o índice do objeto dentro do laço `for`. Para isso podemos usar a função `enumerate`.\n",
        "\n"
      ],
      "metadata": {
        "id": "GqTm7Hngk-gO"
      }
    },
    {
      "cell_type": "code",
      "source": [
        "carros = (\n",
        "    \"gol\",\n",
        "    \"celta\",\n",
        "    \"palio\",\n",
        ")\n",
        "\n",
        "\n",
        "for indice, carro in enumerate(carros):\n",
        "    print(f\"{indice}: {carro}\")"
      ],
      "metadata": {
        "colab": {
          "base_uri": "https://localhost:8080/"
        },
        "id": "7oqDEw53k8hn",
        "outputId": "33b383bf-6cb4-45d5-a059-9774e51eb39f"
      },
      "execution_count": 10,
      "outputs": [
        {
          "output_type": "stream",
          "name": "stdout",
          "text": [
            "0: gol\n",
            "1: celta\n",
            "2: palio\n"
          ]
        }
      ]
    },
    {
      "cell_type": "markdown",
      "source": [
        "# Métodos da classe tuple"
      ],
      "metadata": {
        "id": "9wC2YdbplXrb"
      }
    },
    {
      "cell_type": "code",
      "source": [
        "cores = (\n",
        "    \"vermelho\",\n",
        "    \"azul\",\n",
        "    \"verde\",\n",
        "    \"azul\",\n",
        ")\n",
        "\n",
        "print(cores.count(\"vermelho\"))  # 1\n",
        "print(cores.count(\"azul\"))  # 2\n",
        "print(cores.count(\"verde\"))  # 1"
      ],
      "metadata": {
        "colab": {
          "base_uri": "https://localhost:8080/"
        },
        "id": "HvlPgtKLit1C",
        "outputId": "abae110a-0dd0-414b-f69f-87b2ee7faba7"
      },
      "execution_count": 7,
      "outputs": [
        {
          "output_type": "stream",
          "name": "stdout",
          "text": [
            "1\n",
            "2\n",
            "1\n"
          ]
        }
      ]
    },
    {
      "cell_type": "code",
      "source": [
        "linguagens = (\"python\", \"js\", \"c\", \"java\", \"csharp\",)\n",
        "\n",
        "print(linguagens.index(\"java\"))  # 3\n",
        "print(linguagens.index(\"python\"))  # 0"
      ],
      "metadata": {
        "colab": {
          "base_uri": "https://localhost:8080/"
        },
        "id": "2Vgjc0nhixC3",
        "outputId": "43939b7f-aebc-4808-e703-bc7ecb21978e"
      },
      "execution_count": 8,
      "outputs": [
        {
          "output_type": "stream",
          "name": "stdout",
          "text": [
            "3\n",
            "0\n"
          ]
        }
      ]
    },
    {
      "cell_type": "code",
      "source": [
        "linguagens = (\n",
        "    \"python\",\n",
        "    \"js\",\n",
        "    \"c\",\n",
        "    \"java\",\n",
        "    \"csharp\",\n",
        ")\n",
        "\n",
        "print(len(linguagens))  # 5"
      ],
      "metadata": {
        "colab": {
          "base_uri": "https://localhost:8080/"
        },
        "id": "EBXdR6eki0ds",
        "outputId": "61ae9713-6fd0-46ef-cf5a-acc08392f6ef"
      },
      "execution_count": 9,
      "outputs": [
        {
          "output_type": "stream",
          "name": "stdout",
          "text": [
            "5\n"
          ]
        }
      ]
    }
  ]
}