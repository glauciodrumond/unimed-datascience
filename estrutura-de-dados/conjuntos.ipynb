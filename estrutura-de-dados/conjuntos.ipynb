{
  "nbformat": 4,
  "nbformat_minor": 0,
  "metadata": {
    "colab": {
      "provenance": [],
      "authorship_tag": "ABX9TyMdOhkduV7nUAoTor6uhZL6",
      "include_colab_link": true
    },
    "kernelspec": {
      "name": "python3",
      "display_name": "Python 3"
    }
  },
  "cells": [
    {
      "cell_type": "markdown",
      "metadata": {
        "id": "view-in-github",
        "colab_type": "text"
      },
      "source": [
        "<a href=\"https://colab.research.google.com/github/glauciodrumond/unimed-datascience/blob/main/estrutura-de-dados/conjuntos.ipynb\" target=\"_parent\"><img src=\"https://colab.research.google.com/assets/colab-badge.svg\" alt=\"Open In Colab\"/></a>"
      ]
    },
    {
      "cell_type": "markdown",
      "source": [
        "# Declarando Conjuntos\n",
        "\n",
        "## Criando sets\n",
        "\n",
        "Um set é uma coleção que não possui objetos repetidos, usamos o sets para representar conjuntos matemáticos ou eliminar itens duplicados de um iterável."
      ],
      "metadata": {
        "id": "eb3vKvhjpXeP"
      }
    },
    {
      "cell_type": "code",
      "metadata": {
        "id": "aUAI5EMOK4td",
        "colab": {
          "base_uri": "https://localhost:8080/"
        },
        "outputId": "7a810642-6166-4296-d1b3-767f5368e669"
      },
      "source": [
        "# Declarando Conjuntos\n",
        "\n",
        "numeros = set([1, 2, 3, 1, 3, 4])\n",
        "print(numeros)  # {1, 2, 3, 4}\n",
        "\n",
        "letras = set(\"abacaxi\")\n",
        "print(letras)  # {\"b\", \"a\", \"c\", \"x\", \"i\"}\n",
        "\n",
        "carros = set((\"palio\", \"gol\", \"celta\", \"palio\"))\n",
        "print(carros)  # {\"gol\", \"celta\", \"palio\"}"
      ],
      "execution_count": 1,
      "outputs": [
        {
          "output_type": "stream",
          "name": "stdout",
          "text": [
            "{1, 2, 3, 4}\n",
            "{'b', 'x', 'a', 'i', 'c'}\n",
            "{'palio', 'celta', 'gol'}\n"
          ]
        }
      ]
    },
    {
      "cell_type": "markdown",
      "source": [
        "## Acessando dados\n",
        "\n",
        "Conjuntos em Python não suportam indexação e nem fatiamento, caso queira acessar os seus valores é necessário converter o conjunto para lista."
      ],
      "metadata": {
        "id": "RYRbeElHp1Q_"
      }
    },
    {
      "cell_type": "code",
      "source": [
        "# Acessando dados\n",
        "\n",
        "numeros = {1, 2, 3, 2}\n",
        "\n",
        "numeros = list(numeros)\n",
        "\n",
        "print(numeros[0])"
      ],
      "metadata": {
        "colab": {
          "base_uri": "https://localhost:8080/"
        },
        "id": "Sw5X5tDEn42w",
        "outputId": "d3077377-7a60-4619-ac52-cd9760e088ed"
      },
      "execution_count": 2,
      "outputs": [
        {
          "output_type": "stream",
          "name": "stdout",
          "text": [
            "1\n"
          ]
        }
      ]
    },
    {
      "cell_type": "markdown",
      "source": [
        "## Iterar conjuntos\n",
        "\n",
        "A forma mais comum para percorrer os dados de um conjunto é utilizando o comando `for`.\n",
        "\n",
        "## Função enumerate\n",
        "\n",
        "Às vezes é necessário saber qual o índice do objeto dentro do laço `for`. Para isso podemos usar a função `enumerate`."
      ],
      "metadata": {
        "id": "AllNMA7xqGmO"
      }
    },
    {
      "cell_type": "code",
      "source": [
        "# Iterar conjuntos\n",
        "\n",
        "carros = {\"gol\", \"celta\", \"palio\"}\n",
        "\n",
        "for carro in carros:\n",
        "    print(carro)\n",
        "\n",
        "for indice, carro in enumerate(carros):\n",
        "    print(f\"{indice}: {carro}\")"
      ],
      "metadata": {
        "colab": {
          "base_uri": "https://localhost:8080/"
        },
        "id": "TddgL11qoH8p",
        "outputId": "5c5c4557-b5d9-4b7c-edb1-d990c409ec55"
      },
      "execution_count": 3,
      "outputs": [
        {
          "output_type": "stream",
          "name": "stdout",
          "text": [
            "palio\n",
            "celta\n",
            "gol\n",
            "0: palio\n",
            "1: celta\n",
            "2: gol\n"
          ]
        }
      ]
    },
    {
      "cell_type": "markdown",
      "source": [
        "# Métodos da classe set"
      ],
      "metadata": {
        "id": "DW0jsjOfqzt0"
      }
    },
    {
      "cell_type": "code",
      "source": [
        "# Union\n",
        "\n",
        "conjunto_a = {1, 2}\n",
        "conjunto_b = {3, 4}\n",
        "\n",
        "resultado = conjunto_a.union(conjunto_b)\n",
        "print(resultado)"
      ],
      "metadata": {
        "colab": {
          "base_uri": "https://localhost:8080/"
        },
        "id": "atulwlwnoOsM",
        "outputId": "5945098d-f56c-414e-d359-09f52436a64a"
      },
      "execution_count": 4,
      "outputs": [
        {
          "output_type": "stream",
          "name": "stdout",
          "text": [
            "{1, 2, 3, 4}\n"
          ]
        }
      ]
    },
    {
      "cell_type": "code",
      "source": [
        "# Intersection\n",
        "\n",
        "conjunto_a = {1, 2, 3}\n",
        "conjunto_b = {2, 3, 4}\n",
        "\n",
        "resultado = conjunto_a.intersection(conjunto_b)\n",
        "print(resultado)"
      ],
      "metadata": {
        "colab": {
          "base_uri": "https://localhost:8080/"
        },
        "id": "74ywuZdzoSua",
        "outputId": "6bd34219-50cf-40e7-b48e-c3bf21198fee"
      },
      "execution_count": 5,
      "outputs": [
        {
          "output_type": "stream",
          "name": "stdout",
          "text": [
            "{2, 3}\n"
          ]
        }
      ]
    },
    {
      "cell_type": "code",
      "source": [
        "# Difference\n",
        "\n",
        "conjunto_a = {1, 2, 3}\n",
        "conjunto_b = {2, 3, 4}\n",
        "\n",
        "resultado = conjunto_a.difference(conjunto_b)\n",
        "print(resultado)\n",
        "\n",
        "resultado = conjunto_b.difference(conjunto_a)\n",
        "print(resultado)"
      ],
      "metadata": {
        "colab": {
          "base_uri": "https://localhost:8080/"
        },
        "id": "YN2ZPTbEoWn3",
        "outputId": "84c533a8-9b1b-4fa2-beeb-abd360995e82"
      },
      "execution_count": 6,
      "outputs": [
        {
          "output_type": "stream",
          "name": "stdout",
          "text": [
            "{1}\n",
            "{4}\n"
          ]
        }
      ]
    },
    {
      "cell_type": "code",
      "source": [
        "# Symmetric difference\n",
        "\n",
        "conjunto_a = {1, 2, 3}\n",
        "conjunto_b = {2, 3, 4}\n",
        "\n",
        "resultado = conjunto_a.symmetric_difference(conjunto_b)\n",
        "print(resultado)"
      ],
      "metadata": {
        "colab": {
          "base_uri": "https://localhost:8080/"
        },
        "id": "3S_NIBpfoapA",
        "outputId": "42abbca6-6b3b-4bb6-897b-6c6998e31b91"
      },
      "execution_count": 7,
      "outputs": [
        {
          "output_type": "stream",
          "name": "stdout",
          "text": [
            "{1, 4}\n"
          ]
        }
      ]
    },
    {
      "cell_type": "code",
      "source": [
        "# issubset\n",
        "\n",
        "conjunto_a = {1, 2, 3}\n",
        "conjunto_b = {4, 1, 2, 5, 6, 3}\n",
        "\n",
        "resultado = conjunto_a.issubset(conjunto_b)  # True\n",
        "print(resultado)\n",
        "\n",
        "resultado = conjunto_b.issubset(conjunto_a)  # False\n",
        "print(resultado)"
      ],
      "metadata": {
        "colab": {
          "base_uri": "https://localhost:8080/"
        },
        "id": "F49Gqq0yohcx",
        "outputId": "683eb4f0-02de-46d1-c9f2-e18de3b410dc"
      },
      "execution_count": 8,
      "outputs": [
        {
          "output_type": "stream",
          "name": "stdout",
          "text": [
            "True\n",
            "False\n"
          ]
        }
      ]
    },
    {
      "cell_type": "code",
      "source": [
        "# issuperset\n",
        "\n",
        "conjunto_a = {1, 2, 3}\n",
        "conjunto_b = {4, 1, 2, 5, 6, 3}\n",
        "\n",
        "resultado = conjunto_a.issuperset(conjunto_b)  # False\n",
        "print(resultado)\n",
        "\n",
        "resultado = conjunto_b.issuperset(conjunto_a)  # True\n",
        "print(resultado)"
      ],
      "metadata": {
        "colab": {
          "base_uri": "https://localhost:8080/"
        },
        "id": "3-eFABzNonNC",
        "outputId": "a9120227-bceb-41f0-815c-184e71761e65"
      },
      "execution_count": 9,
      "outputs": [
        {
          "output_type": "stream",
          "name": "stdout",
          "text": [
            "False\n",
            "True\n"
          ]
        }
      ]
    },
    {
      "cell_type": "code",
      "source": [
        "# isdisjoint\n",
        "# verifica se nao há intersecao entre os conjuntos\n",
        "\n",
        "conjunto_a = {1, 2, 3, 4, 5}\n",
        "conjunto_b = {6, 7, 8, 9}\n",
        "conjunto_c = {1, 0}\n",
        "\n",
        "resultado = conjunto_a.isdisjoint(conjunto_b)  # True\n",
        "print(resultado)\n",
        "\n",
        "resultado = conjunto_a.isdisjoint(conjunto_c)  # False\n",
        "print(resultado)"
      ],
      "metadata": {
        "colab": {
          "base_uri": "https://localhost:8080/"
        },
        "id": "piYeU1UposTS",
        "outputId": "e7d4ecd0-73f5-4635-a462-d276d93e8f93"
      },
      "execution_count": 10,
      "outputs": [
        {
          "output_type": "stream",
          "name": "stdout",
          "text": [
            "True\n",
            "False\n"
          ]
        }
      ]
    },
    {
      "cell_type": "code",
      "source": [
        "# add\n",
        "\n",
        "sorteio = {1, 23}\n",
        "\n",
        "sorteio.add(25)  # {1, 23, 25}\n",
        "print(sorteio)\n",
        "\n",
        "sorteio.add(42)  # {1, 23, 25, 42}\n",
        "print(sorteio)\n",
        "\n",
        "sorteio.add(25)  # {1, 23, 25, 42}\n",
        "print(sorteio)"
      ],
      "metadata": {
        "colab": {
          "base_uri": "https://localhost:8080/"
        },
        "id": "xuNpjESqowmC",
        "outputId": "a6ac5ae6-9b07-44ea-8f4d-7a5be70b3a6d"
      },
      "execution_count": 11,
      "outputs": [
        {
          "output_type": "stream",
          "name": "stdout",
          "text": [
            "{1, 25, 23}\n",
            "{1, 42, 25, 23}\n",
            "{1, 42, 25, 23}\n"
          ]
        }
      ]
    },
    {
      "cell_type": "code",
      "source": [
        "# clear\n",
        "\n",
        "sorteio = {1, 23}\n",
        "\n",
        "print(sorteio)  # {1,23}\n",
        "\n",
        "sorteio.clear()\n",
        "\n",
        "print(sorteio)  # {}"
      ],
      "metadata": {
        "colab": {
          "base_uri": "https://localhost:8080/"
        },
        "id": "A798nWbDo05T",
        "outputId": "acf3bb2b-54ad-4c9f-db8a-01a9f9e357ce"
      },
      "execution_count": 12,
      "outputs": [
        {
          "output_type": "stream",
          "name": "stdout",
          "text": [
            "{1, 23}\n",
            "set()\n"
          ]
        }
      ]
    },
    {
      "cell_type": "code",
      "source": [
        "# copy\n",
        "\n",
        "sorteio = {1, 23}\n",
        "\n",
        "print(sorteio)  # {1, 23}\n",
        "\n",
        "sorteio.copy()\n",
        "\n",
        "print(sorteio)  # {1, 23}"
      ],
      "metadata": {
        "colab": {
          "base_uri": "https://localhost:8080/"
        },
        "id": "9CrsrCd3o47t",
        "outputId": "bff4ef59-b88c-4e70-c296-f81fbd5c16cd"
      },
      "execution_count": 13,
      "outputs": [
        {
          "output_type": "stream",
          "name": "stdout",
          "text": [
            "{1, 23}\n",
            "{1, 23}\n"
          ]
        }
      ]
    },
    {
      "cell_type": "code",
      "source": [
        "# discard\n",
        "\n",
        "numeros = {1, 2, 3, 1, 2, 4, 5, 5, 6, 7, 8, 9, 0}\n",
        "\n",
        "print(numeros)  # {1, 2, 3, 4, 5, 6, 7, 8, 9, 0}\n",
        "\n",
        "numeros.discard(1)\n",
        "numeros.discard(45)\n",
        "\n",
        "print(numeros)  # {2, 3, 4, 5, 6, 7, 8, 9, 0}"
      ],
      "metadata": {
        "colab": {
          "base_uri": "https://localhost:8080/"
        },
        "id": "S5eHdwIFo70S",
        "outputId": "5787ae92-349b-4040-c630-ba60c1c120e0"
      },
      "execution_count": 14,
      "outputs": [
        {
          "output_type": "stream",
          "name": "stdout",
          "text": [
            "{0, 1, 2, 3, 4, 5, 6, 7, 8, 9}\n",
            "{0, 2, 3, 4, 5, 6, 7, 8, 9}\n"
          ]
        }
      ]
    },
    {
      "cell_type": "code",
      "source": [
        "# pop\n",
        "\n",
        "numeros = {1, 2, 3, 1, 2, 4, 5, 5, 6, 7, 8, 9, 0}\n",
        "\n",
        "print(numeros)  # {0, 1, 2, 3, 4, 5, 6, 7, 8, 9}\n",
        "print(numeros.pop())  # 0\n",
        "print(numeros.pop())  # 1\n",
        "print(numeros)  # {2, 3, 4, 5, 6, 7, 8, 9}"
      ],
      "metadata": {
        "colab": {
          "base_uri": "https://localhost:8080/"
        },
        "id": "4yNtXrsOpAVF",
        "outputId": "f5da82c0-48f5-4d7d-fdeb-a7a71541be0c"
      },
      "execution_count": 15,
      "outputs": [
        {
          "output_type": "stream",
          "name": "stdout",
          "text": [
            "{0, 1, 2, 3, 4, 5, 6, 7, 8, 9}\n",
            "0\n",
            "1\n",
            "{2, 3, 4, 5, 6, 7, 8, 9}\n"
          ]
        }
      ]
    },
    {
      "cell_type": "code",
      "source": [
        "# remove\n",
        "\n",
        "numeros = {1, 2, 3, 1, 2, 4, 5, 5, 6, 7, 8, 9, 0}\n",
        "\n",
        "print(numeros)  # {0, 1, 2, 3, 4, 5, 6, 7, 8, 9}\n",
        "print(numeros.remove(0))  # 0\n",
        "print(numeros)  # {1, 2, 3, 4, 5, 6, 7, 8, 9}"
      ],
      "metadata": {
        "colab": {
          "base_uri": "https://localhost:8080/"
        },
        "id": "u6UYifXipFUq",
        "outputId": "f21d2074-3f2f-4287-8424-465a64aee362"
      },
      "execution_count": 16,
      "outputs": [
        {
          "output_type": "stream",
          "name": "stdout",
          "text": [
            "{0, 1, 2, 3, 4, 5, 6, 7, 8, 9}\n",
            "None\n",
            "{1, 2, 3, 4, 5, 6, 7, 8, 9}\n"
          ]
        }
      ]
    },
    {
      "cell_type": "code",
      "source": [
        "# len\n",
        "\n",
        "numeros = {1, 2, 3, 1, 2, 4, 5, 5, 6, 7, 8, 9, 0}\n",
        "\n",
        "print(len(numeros))  # 10"
      ],
      "metadata": {
        "colab": {
          "base_uri": "https://localhost:8080/"
        },
        "id": "oRTQSM46pIhy",
        "outputId": "f871a54b-04ae-4f57-cb69-3e242b7994b5"
      },
      "execution_count": 17,
      "outputs": [
        {
          "output_type": "stream",
          "name": "stdout",
          "text": [
            "10\n"
          ]
        }
      ]
    },
    {
      "cell_type": "code",
      "source": [
        "# in\n",
        "\n",
        "numeros = {1, 2, 3, 1, 2, 4, 5, 5, 6, 7, 8, 9, 0}\n",
        "\n",
        "print(1 in numeros)  # True\n",
        "print(10 in numeros)  # False"
      ],
      "metadata": {
        "colab": {
          "base_uri": "https://localhost:8080/"
        },
        "id": "zo0ecJEVpLul",
        "outputId": "f4344b90-c92f-4463-a86c-c9d70c2db818"
      },
      "execution_count": 18,
      "outputs": [
        {
          "output_type": "stream",
          "name": "stdout",
          "text": [
            "True\n",
            "False\n"
          ]
        }
      ]
    }
  ]
}