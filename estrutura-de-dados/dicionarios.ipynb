{
  "nbformat": 4,
  "nbformat_minor": 0,
  "metadata": {
    "colab": {
      "provenance": [],
      "authorship_tag": "ABX9TyNU/l3s0eSKZfGXg9oeVArw",
      "include_colab_link": true
    },
    "kernelspec": {
      "name": "python3",
      "display_name": "Python 3"
    },
    "language_info": {
      "name": "python"
    }
  },
  "cells": [
    {
      "cell_type": "markdown",
      "metadata": {
        "id": "view-in-github",
        "colab_type": "text"
      },
      "source": [
        "<a href=\"https://colab.research.google.com/github/glauciodrumond/unimed-datascience/blob/main/estrutura-de-dados/dicionarios.ipynb\" target=\"_parent\"><img src=\"https://colab.research.google.com/assets/colab-badge.svg\" alt=\"Open In Colab\"/></a>"
      ]
    },
    {
      "cell_type": "markdown",
      "source": [
        "# Criando dicionários\n",
        "\n",
        "Um dicionário é um conjunto não-ordenado de pares `chave:valor`, onde as chaves são únicas em uma dada instância do dicionário.\n",
        "\n",
        "Dicionários são delimitados por chaves: {}, e contém uma lista de pares chave:valor separada por vígula."
      ],
      "metadata": {
        "id": "ZBALL03ju-Sd"
      }
    },
    {
      "cell_type": "code",
      "source": [
        "pessoa = {\"nome\": \"Guilherme\", \"idade\": 28}\n",
        "print(pessoa)\n",
        "\n",
        "pessoa = dict(nome=\"Guilherme\", idade=28)\n",
        "print(pessoa)\n",
        "\n",
        "pessoa[\"telefone\"] = \"3333-1234\"  # {\"nome\": \"Guilherme\", \"idade\": 28, \"telefone\": \"3333-1234\"}\n",
        "print(pessoa)"
      ],
      "metadata": {
        "colab": {
          "base_uri": "https://localhost:8080/"
        },
        "id": "JRE2f7auuERi",
        "outputId": "44b33e65-c5cd-4554-87c2-1d5c57c12cbe"
      },
      "execution_count": 1,
      "outputs": [
        {
          "output_type": "stream",
          "name": "stdout",
          "text": [
            "{'nome': 'Guilherme', 'idade': 28}\n",
            "{'nome': 'Guilherme', 'idade': 28}\n",
            "{'nome': 'Guilherme', 'idade': 28, 'telefone': '3333-1234'}\n"
          ]
        }
      ]
    },
    {
      "cell_type": "markdown",
      "source": [
        "## Acesso aos dados\n",
        "\n",
        "Os dados são acessados e modificados através da chava."
      ],
      "metadata": {
        "id": "U_VPrz-VvfUu"
      }
    },
    {
      "cell_type": "code",
      "source": [
        "dados = {\"nome\": \"Guilherme\", \"idade\": 28, \"telefone\": \"3333-1234\"}\n",
        "\n",
        "print(dados[\"nome\"])  # \"Guilherme\"\n",
        "print(dados[\"idade\"])  # 28\n",
        "print(dados[\"telefone\"])  # \"3333-1234\"\n",
        "\n",
        "dados[\"nome\"] = \"Maria\"\n",
        "dados[\"idade\"] = 18\n",
        "dados[\"telefone\"] = \"9988-1781\"\n",
        "\n",
        "print(dados)  # {\"nome\": \"Maria\", \"idade\": 18, \"telefone\": \"9988-1781\"}"
      ],
      "metadata": {
        "colab": {
          "base_uri": "https://localhost:8080/"
        },
        "id": "rlMJ2CQEuE1g",
        "outputId": "4face985-fe9c-42bc-bf40-2c6eb80748ae"
      },
      "execution_count": 2,
      "outputs": [
        {
          "output_type": "stream",
          "name": "stdout",
          "text": [
            "Guilherme\n",
            "28\n",
            "3333-1234\n",
            "{'nome': 'Maria', 'idade': 18, 'telefone': '9988-1781'}\n"
          ]
        }
      ]
    },
    {
      "cell_type": "markdown",
      "source": [
        "## Dicionários aninhados\n",
        "\n",
        "Dicionários podem armazenar qualquer tipo de objeto Python como valor, desde que a chave para esse valor seja um objeto imutável como (strings e números)."
      ],
      "metadata": {
        "id": "nPSNV_vNvqkj"
      }
    },
    {
      "cell_type": "code",
      "source": [
        "contatos = {\n",
        "    \"guilherme@gmail.com\": {\"nome\": \"Guilherme\", \"telefone\": \"3333-2221\"},\n",
        "    \"giovanna@gmail.com\": {\"nome\": \"Giovanna\", \"telefone\": \"3443-2121\"},\n",
        "    \"chappie@gmail.com\": {\"nome\": \"Chappie\", \"telefone\": \"3344-9871\"},\n",
        "    \"melaine@gmail.com\": {\"nome\": \"Melaine\", \"telefone\": \"3333-7766\"},\n",
        "}\n",
        "\n",
        "telefone = contatos[\"giovanna@gmail.com\"][\"telefone\"]  # \"3443-2121\"\n",
        "print(telefone)"
      ],
      "metadata": {
        "colab": {
          "base_uri": "https://localhost:8080/"
        },
        "id": "6LaUfiuGuHXC",
        "outputId": "70b27521-a78c-4fad-98d3-5231d80422b5"
      },
      "execution_count": 3,
      "outputs": [
        {
          "output_type": "stream",
          "name": "stdout",
          "text": [
            "3443-2121\n"
          ]
        }
      ]
    },
    {
      "cell_type": "markdown",
      "source": [
        "## Iterar dicionários\n",
        "\n",
        "A forma mais comum para percorrer os dados de um dicionário é utilizando o comando `for`."
      ],
      "metadata": {
        "id": "qEDJbvAlwE46"
      }
    },
    {
      "cell_type": "code",
      "source": [
        "contatos = {\n",
        "    \"guilherme@gmail.com\": {\"nome\": \"Guilherme\", \"telefone\": \"3333-2221\"},\n",
        "    \"giovanna@gmail.com\": {\"nome\": \"Giovanna\", \"telefone\": \"3443-2121\"},\n",
        "    \"chappie@gmail.com\": {\"nome\": \"Chappie\", \"telefone\": \"3344-9871\"},\n",
        "    \"melaine@gmail.com\": {\"nome\": \"Melaine\", \"telefone\": \"3333-7766\"},\n",
        "}\n",
        "\n",
        "for chave in contatos:\n",
        "    print(chave, contatos[chave])\n",
        "\n",
        "print(\"=\" * 100)\n",
        "\n",
        "for chave, valor in contatos.items():\n",
        "    print(chave, valor)"
      ],
      "metadata": {
        "colab": {
          "base_uri": "https://localhost:8080/"
        },
        "id": "D68hsDYbuJIw",
        "outputId": "5a8cbe69-23c4-4f44-e7d3-1a523ca2b6e8"
      },
      "execution_count": 4,
      "outputs": [
        {
          "output_type": "stream",
          "name": "stdout",
          "text": [
            "guilherme@gmail.com {'nome': 'Guilherme', 'telefone': '3333-2221'}\n",
            "giovanna@gmail.com {'nome': 'Giovanna', 'telefone': '3443-2121'}\n",
            "chappie@gmail.com {'nome': 'Chappie', 'telefone': '3344-9871'}\n",
            "melaine@gmail.com {'nome': 'Melaine', 'telefone': '3333-7766'}\n",
            "====================================================================================================\n",
            "guilherme@gmail.com {'nome': 'Guilherme', 'telefone': '3333-2221'}\n",
            "giovanna@gmail.com {'nome': 'Giovanna', 'telefone': '3443-2121'}\n",
            "chappie@gmail.com {'nome': 'Chappie', 'telefone': '3344-9871'}\n",
            "melaine@gmail.com {'nome': 'Melaine', 'telefone': '3333-7766'}\n"
          ]
        }
      ]
    },
    {
      "cell_type": "markdown",
      "source": [
        "# Métodos da classe dict"
      ],
      "metadata": {
        "id": "vj9bdGojwPHJ"
      }
    },
    {
      "cell_type": "code",
      "source": [
        "contatos = {\n",
        "    \"guilherme@gmail.com\": {\"nome\": \"Guilherme\", \"telefone\": \"3333-2221\"},\n",
        "    \"giovanna@gmail.com\": {\"nome\": \"Giovanna\", \"telefone\": \"3443-2121\"},\n",
        "    \"chappie@gmail.com\": {\"nome\": \"Chappie\", \"telefone\": \"3344-9871\"},\n",
        "    \"melaine@gmail.com\": {\"nome\": \"Melaine\", \"telefone\": \"3333-7766\"},\n",
        "}\n",
        "\n",
        "contatos.clear()\n",
        "print(contatos)  # {}"
      ],
      "metadata": {
        "colab": {
          "base_uri": "https://localhost:8080/"
        },
        "id": "FqvwOooAuLQq",
        "outputId": "2e112502-f38f-4d8a-a02d-77cbdcfb99ce"
      },
      "execution_count": 5,
      "outputs": [
        {
          "output_type": "stream",
          "name": "stdout",
          "text": [
            "{}\n"
          ]
        }
      ]
    },
    {
      "cell_type": "code",
      "source": [
        "contatos = {\"guilherme@gmail.com\": {\"nome\": \"Guilherme\", \"telefone\": \"3333-2221\"}}\n",
        "\n",
        "copia = contatos.copy()\n",
        "copia[\"guilherme@gmail.com\"] = {\"nome\": \"Gui\"}\n",
        "\n",
        "print(contatos[\"guilherme@gmail.com\"])  # {\"nome\": \"Guilherme\", \"telefone\": \"3333-2221\"}\n",
        "\n",
        "print(copia[\"guilherme@gmail.com\"])  # {\"nome\": \"Gui\"}"
      ],
      "metadata": {
        "colab": {
          "base_uri": "https://localhost:8080/"
        },
        "id": "QKX6TuUCuNOK",
        "outputId": "8f7bde41-f63a-4dc8-96e7-bc571b66ef9f"
      },
      "execution_count": 6,
      "outputs": [
        {
          "output_type": "stream",
          "name": "stdout",
          "text": [
            "{'nome': 'Guilherme', 'telefone': '3333-2221'}\n",
            "{'nome': 'Gui'}\n"
          ]
        }
      ]
    },
    {
      "cell_type": "code",
      "source": [
        "resultado = dict.fromkeys([\"nome\", \"telefone\"])  # {\"nome\": None, \"telefone\": None}\n",
        "print(resultado)\n",
        "\n",
        "resultado = dict.fromkeys([\"nome\", \"telefone\"], \"vazio\")  # {\"nome\": \"vazio\", \"telefone\": \"vazio\"}\n",
        "print(resultado)"
      ],
      "metadata": {
        "colab": {
          "base_uri": "https://localhost:8080/"
        },
        "id": "XLuG2KWJuPjY",
        "outputId": "b2e23f00-5f73-4816-e4aa-6582476b0360"
      },
      "execution_count": 7,
      "outputs": [
        {
          "output_type": "stream",
          "name": "stdout",
          "text": [
            "{'nome': None, 'telefone': None}\n",
            "{'nome': 'vazio', 'telefone': 'vazio'}\n"
          ]
        }
      ]
    },
    {
      "cell_type": "code",
      "source": [
        "contatos = {\"guilherme@gmail.com\": {\"nome\": \"Guilherme\", \"telefone\": \"3333-2221\"}}\n",
        "\n",
        "# contatos[\"chave\"]  # KeyError\n",
        "\n",
        "resultado = contatos.get(\"chave\")  # None\n",
        "print(resultado)\n",
        "\n",
        "resultado = contatos.get(\"chave\", {})  # {}\n",
        "print(resultado)\n",
        "\n",
        "resultado = contatos.get(\n",
        "    \"guilherme@gmail.com\", {}\n",
        ")  # {\"guilherme@gmail.com\": {\"nome\": \"Guilherme\", \"telefone\": \"3333-2221\"}\n",
        "print(resultado)"
      ],
      "metadata": {
        "colab": {
          "base_uri": "https://localhost:8080/"
        },
        "id": "xkf0dRlmuRYd",
        "outputId": "bcc7b093-584c-4748-bf96-e67a0cc3a7ea"
      },
      "execution_count": 8,
      "outputs": [
        {
          "output_type": "stream",
          "name": "stdout",
          "text": [
            "None\n",
            "{}\n",
            "{'nome': 'Guilherme', 'telefone': '3333-2221'}\n"
          ]
        }
      ]
    },
    {
      "cell_type": "code",
      "source": [
        "contatos = {\"guilherme@gmail.com\": {\"nome\": \"Guilherme\", \"telefone\": \"3333-2221\"}}\n",
        "\n",
        "resultado = contatos.items()  # dict_items([('guilherme@gmail.com', {'nome': 'Guilherme', 'telefone': '3333-2221'})])\n",
        "print(resultado)"
      ],
      "metadata": {
        "colab": {
          "base_uri": "https://localhost:8080/"
        },
        "id": "6PWirsdWuTW1",
        "outputId": "e6ecdf3f-974c-455a-d4cf-ad650344dbe9"
      },
      "execution_count": 9,
      "outputs": [
        {
          "output_type": "stream",
          "name": "stdout",
          "text": [
            "dict_items([('guilherme@gmail.com', {'nome': 'Guilherme', 'telefone': '3333-2221'})])\n"
          ]
        }
      ]
    },
    {
      "cell_type": "code",
      "source": [
        "contatos = {\"guilherme@gmail.com\": {\"nome\": \"Guilherme\", \"telefone\": \"3333-2221\"}}\n",
        "\n",
        "resultado = contatos.keys()  # dict_keys(['guilherme@gmail.com'])\n",
        "print(resultado)"
      ],
      "metadata": {
        "colab": {
          "base_uri": "https://localhost:8080/"
        },
        "id": "Qq5acnkbuVfO",
        "outputId": "1c41c961-0db0-47c2-9fd5-bc11c9560a69"
      },
      "execution_count": 10,
      "outputs": [
        {
          "output_type": "stream",
          "name": "stdout",
          "text": [
            "dict_keys(['guilherme@gmail.com'])\n"
          ]
        }
      ]
    },
    {
      "cell_type": "code",
      "source": [
        "contatos = {\"guilherme@gmail.com\": {\"nome\": \"Guilherme\", \"telefone\": \"3333-2221\"}}\n",
        "\n",
        "resultado = contatos.pop(\"guilherme@gmail.com\")  # {'nome': 'Guilherme', 'telefone': '3333-2221'}\n",
        "print(resultado)\n",
        "\n",
        "resultado = contatos.pop(\"guilherme@gmail.com\", {})  # {}\n",
        "print(resultado)"
      ],
      "metadata": {
        "colab": {
          "base_uri": "https://localhost:8080/"
        },
        "id": "kx6yMSOOuXPw",
        "outputId": "97934033-e41d-43d8-8ba1-1e74e9ea4693"
      },
      "execution_count": 11,
      "outputs": [
        {
          "output_type": "stream",
          "name": "stdout",
          "text": [
            "{'nome': 'Guilherme', 'telefone': '3333-2221'}\n",
            "{}\n"
          ]
        }
      ]
    },
    {
      "cell_type": "code",
      "source": [
        "contatos = {\"guilherme@gmail.com\": {\"nome\": \"Guilherme\", \"telefone\": \"3333-2221\"}}\n",
        "\n",
        "resultado = contatos.popitem()  # ('guilherme@gmail.com', {'nome': 'Guilherme', 'telefone': '3333-2221'})\n",
        "print(resultado)\n",
        "\n",
        "# contatos.popitem()  # KeyError"
      ],
      "metadata": {
        "colab": {
          "base_uri": "https://localhost:8080/"
        },
        "id": "1KRZ_H9euZqd",
        "outputId": "86fe973d-2803-4180-fbe9-4e382f34dbf3"
      },
      "execution_count": 12,
      "outputs": [
        {
          "output_type": "stream",
          "name": "stdout",
          "text": [
            "('guilherme@gmail.com', {'nome': 'Guilherme', 'telefone': '3333-2221'})\n"
          ]
        }
      ]
    },
    {
      "cell_type": "code",
      "source": [
        "contato = {\"nome\": \"Guilherme\", \"telefone\": \"3333-2221\"}\n",
        "\n",
        "contato.setdefault(\"nome\", \"Giovanna\")  # \"Guilherme\"\n",
        "print(contato)  # {'nome': 'Guilherme', 'telefone': '3333-2221'}\n",
        "\n",
        "contato.setdefault(\"idade\", 28)  # 28\n",
        "print(contato)  # {'nome': 'Guilherme', 'telefone': '3333-2221', 'idade': 28}"
      ],
      "metadata": {
        "colab": {
          "base_uri": "https://localhost:8080/"
        },
        "id": "rA8-DVc4ucji",
        "outputId": "abb4213f-4b2b-4b45-98e9-df3c507749bd"
      },
      "execution_count": 13,
      "outputs": [
        {
          "output_type": "stream",
          "name": "stdout",
          "text": [
            "{'nome': 'Guilherme', 'telefone': '3333-2221'}\n",
            "{'nome': 'Guilherme', 'telefone': '3333-2221', 'idade': 28}\n"
          ]
        }
      ]
    },
    {
      "cell_type": "code",
      "source": [
        "\n",
        "\n",
        "contatos = {\"guilherme@gmail.com\": {\"nome\": \"Guilherme\", \"telefone\": \"3333-2221\"}}\n",
        "\n",
        "contatos.update({\"guilherme@gmail.com\": {\"nome\": \"Gui\"}})\n",
        "print(contatos)  # {'guilherme@gmail.com': {'nome': 'Gui'}}\n",
        "\n",
        "contatos.update({\"giovanna@gmail.com\": {\"nome\": \"Giovanna\", \"telefone\": \"3322-8181\"}})\n",
        "# {'guilherme@gmail.com': {'nome': 'Gui'}, 'giovanna@gmail.com': {'nome': 'Giovanna', 'telefone': '3322-8181'}}\n",
        "print(contatos)"
      ],
      "metadata": {
        "colab": {
          "base_uri": "https://localhost:8080/"
        },
        "id": "AL0HsBSAufe5",
        "outputId": "774eb219-108f-4760-c846-162035dc247b"
      },
      "execution_count": 14,
      "outputs": [
        {
          "output_type": "stream",
          "name": "stdout",
          "text": [
            "{'guilherme@gmail.com': {'nome': 'Gui'}}\n",
            "{'guilherme@gmail.com': {'nome': 'Gui'}, 'giovanna@gmail.com': {'nome': 'Giovanna', 'telefone': '3322-8181'}}\n"
          ]
        }
      ]
    },
    {
      "cell_type": "code",
      "source": [
        "contatos = {\n",
        "    \"guilherme@gmail.com\": {\"nome\": \"Guilherme\", \"telefone\": \"3333-2221\"},\n",
        "    \"giovanna@gmail.com\": {\"nome\": \"Giovanna\", \"telefone\": \"3443-2121\"},\n",
        "    \"chappie@gmail.com\": {\"nome\": \"Chappie\", \"telefone\": \"3344-9871\"},\n",
        "    \"melaine@gmail.com\": {\"nome\": \"Melaine\", \"telefone\": \"3333-7766\"},\n",
        "}\n",
        "\n",
        "resultado = (\n",
        "    contatos.values()\n",
        ")  # dict_values([{'nome': 'Guilherme', 'telefone': '3333-2221'}, {'nome': 'Giovanna', 'telefone': '3443-2121'}, {'nome': 'Chappie', 'telefone': '3344-9871'}, {'nome': 'Melaine', 'telefone': '3333-7766'}])  # noqa\n",
        "print(resultado)"
      ],
      "metadata": {
        "colab": {
          "base_uri": "https://localhost:8080/"
        },
        "id": "w48zeKESuh3q",
        "outputId": "892a4daf-1efb-4b75-fa3a-ee8cfb826b76"
      },
      "execution_count": 15,
      "outputs": [
        {
          "output_type": "stream",
          "name": "stdout",
          "text": [
            "dict_values([{'nome': 'Guilherme', 'telefone': '3333-2221'}, {'nome': 'Giovanna', 'telefone': '3443-2121'}, {'nome': 'Chappie', 'telefone': '3344-9871'}, {'nome': 'Melaine', 'telefone': '3333-7766'}])\n"
          ]
        }
      ]
    },
    {
      "cell_type": "code",
      "source": [
        "contatos = {\n",
        "    \"guilherme@gmail.com\": {\"nome\": \"Guilherme\", \"telefone\": \"3333-2221\"},\n",
        "    \"giovanna@gmail.com\": {\"nome\": \"Giovanna\", \"telefone\": \"3443-2121\"},\n",
        "    \"chappie@gmail.com\": {\"nome\": \"Chappie\", \"telefone\": \"3344-9871\"},\n",
        "    \"melaine@gmail.com\": {\"nome\": \"Melaine\", \"telefone\": \"3333-7766\"},\n",
        "}\n",
        "\n",
        "resultado = \"guilherme@gmail.com\" in contatos  # True\n",
        "print(resultado)\n",
        "\n",
        "resultado = \"megui@gmail.com\" in contatos  # False\n",
        "print(resultado)\n",
        "\n",
        "resultado = \"idade\" in contatos[\"guilherme@gmail.com\"]  # False\n",
        "print(resultado)\n",
        "\n",
        "resultado = \"telefone\" in contatos[\"giovanna@gmail.com\"]  # True\n",
        "print(resultado)"
      ],
      "metadata": {
        "colab": {
          "base_uri": "https://localhost:8080/"
        },
        "id": "tTyYi3wMukp6",
        "outputId": "32b84efe-8df9-413e-c0bd-0352071e585b"
      },
      "execution_count": 16,
      "outputs": [
        {
          "output_type": "stream",
          "name": "stdout",
          "text": [
            "True\n",
            "False\n",
            "False\n",
            "True\n"
          ]
        }
      ]
    },
    {
      "cell_type": "code",
      "source": [
        "\n",
        "contatos = {\n",
        "    \"guilherme@gmail.com\": {\"nome\": \"Guilherme\", \"telefone\": \"3333-2221\"},\n",
        "    \"giovanna@gmail.com\": {\"nome\": \"Giovanna\", \"telefone\": \"3443-2121\"},\n",
        "    \"chappie@gmail.com\": {\"nome\": \"Chappie\", \"telefone\": \"3344-9871\"},\n",
        "    \"melaine@gmail.com\": {\"nome\": \"Melaine\", \"telefone\": \"3333-7766\"},\n",
        "}\n",
        "\n",
        "del contatos[\"guilherme@gmail.com\"][\"telefone\"]\n",
        "del contatos[\"chappie@gmail.com\"]\n",
        "\n",
        "# {'guilherme@gmail.com': {'nome': 'Guilherme'}, 'giovanna@gmail.com': {'nome': 'Giovanna', 'telefone': '3443-2121'}, 'melaine@gmail.com': {'nome': 'Melaine', 'telefone': '3333-7766'}}  # noqa\n",
        "print(contatos)"
      ],
      "metadata": {
        "colab": {
          "base_uri": "https://localhost:8080/"
        },
        "id": "vEbaQJT1uoKA",
        "outputId": "5a9877f3-a476-4600-f659-7f51d9c80aa7"
      },
      "execution_count": 17,
      "outputs": [
        {
          "output_type": "stream",
          "name": "stdout",
          "text": [
            "{'guilherme@gmail.com': {'nome': 'Guilherme'}, 'giovanna@gmail.com': {'nome': 'Giovanna', 'telefone': '3443-2121'}, 'melaine@gmail.com': {'nome': 'Melaine', 'telefone': '3333-7766'}}\n"
          ]
        }
      ]
    },
    {
      "cell_type": "code",
      "source": [],
      "metadata": {
        "id": "8-WptL87usZz"
      },
      "execution_count": null,
      "outputs": []
    }
  ]
}