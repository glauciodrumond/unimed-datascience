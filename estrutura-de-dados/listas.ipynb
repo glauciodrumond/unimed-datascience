{
  "nbformat": 4,
  "nbformat_minor": 0,
  "metadata": {
    "colab": {
      "provenance": [],
      "authorship_tag": "ABX9TyO73KyLX2002l8dTm0ixcmU",
      "include_colab_link": true
    },
    "kernelspec": {
      "name": "python3",
      "display_name": "Python 3"
    },
    "language_info": {
      "name": "python"
    }
  },
  "cells": [
    {
      "cell_type": "markdown",
      "metadata": {
        "id": "view-in-github",
        "colab_type": "text"
      },
      "source": [
        "<a href=\"https://colab.research.google.com/github/glauciodrumond/unimed-datascience/blob/main/estrutura-de-dados/listas.ipynb\" target=\"_parent\"><img src=\"https://colab.research.google.com/assets/colab-badge.svg\" alt=\"Open In Colab\"/></a>"
      ]
    },
    {
      "cell_type": "markdown",
      "source": [
        "# Listas\n",
        "\n"
      ],
      "metadata": {
        "id": "WIhEunX8ORBo"
      }
    },
    {
      "cell_type": "markdown",
      "source": [
        "# Criação e acesso aos dados"
      ],
      "metadata": {
        "id": "wKP30JSAZaof"
      }
    },
    {
      "cell_type": "markdown",
      "source": [
        "## Criando Listas\n",
        "\n",
        "Listas em Python podem armazenar de maneira sequencial qualquer tipo de objeto.\n",
        "\n",
        "Podemos criar listas utilizando o construtor `list`, a função `range` ou colocando valores separados por vírgula dentro de colchetes.\n",
        "\n",
        "Listas são objetos mutáveis, portanto podemos alterar seus valores após a criação"
      ],
      "metadata": {
        "id": "kadh-jo8Sq_5"
      }
    },
    {
      "cell_type": "markdown",
      "source": [
        "## Criação e acesso aos dados"
      ],
      "metadata": {
        "id": "wO962sgdUhZ2"
      }
    },
    {
      "cell_type": "code",
      "execution_count": null,
      "metadata": {
        "colab": {
          "base_uri": "https://localhost:8080/"
        },
        "id": "TJlJEagVOJc6",
        "outputId": "3f214441-aa58-4c08-a3b6-a652eebb74b3"
      },
      "outputs": [
        {
          "output_type": "stream",
          "name": "stdout",
          "text": [
            "['laranja', 'maca', 'uva']\n",
            "[]\n",
            "['p', 'y', 't', 'h', 'o', 'n']\n",
            "[0, 1, 2, 3, 4, 5, 6, 7, 8, 9]\n",
            "['Ferrari', 'F8', 4200000, 2020, 2900, 'São Paulo', True]\n"
          ]
        }
      ],
      "source": [
        "# declarando uma lista dentro colchetes\n",
        "frutas = [\"laranja\", \"maca\", \"uva\"]\n",
        "print(frutas)\n",
        "\n",
        "# declarando lista vazia\n",
        "frutas = []\n",
        "print(frutas)\n",
        "\n",
        "# declarando usando construtor list, cada letra é um elemento\n",
        "letras = list(\"python\")\n",
        "print(letras)\n",
        "\n",
        "# declarando usando construtor list e a funcao range\n",
        "numeros = list(range(10))\n",
        "print(numeros)\n",
        "\n",
        "carro = [\"Ferrari\", \"F8\", 4200000, 2020, 2900, \"São Paulo\", True]\n",
        "print(carro)"
      ]
    },
    {
      "cell_type": "markdown",
      "source": [
        "## Acesso direto\n",
        "\n",
        "A lista é uma sequência, portanto podemos acessar seus dados utilizando índices. Contamos o índice de determinada sequência a partir do zero."
      ],
      "metadata": {
        "id": "yH055hZaVduV"
      }
    },
    {
      "cell_type": "code",
      "source": [
        "frutas = [\"maçã\", \"laranja\", \"uva\", \"pera\"]\n",
        "\n",
        "print(frutas[0])  # maçã\n",
        "print(frutas[2])  # uva"
      ],
      "metadata": {
        "colab": {
          "base_uri": "https://localhost:8080/"
        },
        "id": "L6WF5y7uU2qG",
        "outputId": "8ca85016-97e2-478d-8587-aac6e1d36076"
      },
      "execution_count": null,
      "outputs": [
        {
          "output_type": "stream",
          "name": "stdout",
          "text": [
            "maçã\n",
            "uva\n"
          ]
        }
      ]
    },
    {
      "cell_type": "markdown",
      "source": [
        "## Índices negativos\n",
        "\n",
        "Sequências suportam indexação negativa. A contagem começa em -1."
      ],
      "metadata": {
        "id": "ZWBqK6nbV50i"
      }
    },
    {
      "cell_type": "code",
      "source": [
        "frutas = [\"maçã\", \"laranja\", \"uva\", \"pera\"]\n",
        "\n",
        "print(frutas[-1])  # pera\n",
        "print(frutas[-3])  # laranja"
      ],
      "metadata": {
        "colab": {
          "base_uri": "https://localhost:8080/"
        },
        "id": "ZrZaatKLWK1z",
        "outputId": "3f53afd5-ad38-46ff-9e0e-e8ee964554f3"
      },
      "execution_count": null,
      "outputs": [
        {
          "output_type": "stream",
          "name": "stdout",
          "text": [
            "pera\n",
            "laranja\n"
          ]
        }
      ]
    },
    {
      "cell_type": "markdown",
      "source": [
        "## Listas aninhadas\n",
        "\n",
        "Listas podem armazenar todos os tipos de objetos Python, portanto podemos ter listas que armazenam outras listas.\n",
        "\n",
        "Com isso podemos criar estruturas bidimensionais (tabelas), e acessar informando os índices de linha e coluna."
      ],
      "metadata": {
        "id": "Q2FREa_wWQJv"
      }
    },
    {
      "cell_type": "code",
      "source": [
        "matriz = [\n",
        "    [1, \"a\", 2],\n",
        "    [\"b\", 3, 4],\n",
        "    [6, 5, \"c\"]\n",
        "]\n",
        "\n",
        "print(matriz[0])  # [1, \"a\", 2]\n",
        "print(matriz[0][0])  # 1\n",
        "print(matriz[0][-1])  # 2\n",
        "print(matriz[-1][-1])  # \"c\""
      ],
      "metadata": {
        "colab": {
          "base_uri": "https://localhost:8080/"
        },
        "id": "NHL5XWKQWOb2",
        "outputId": "da91a9e2-8de8-4888-dc6d-d3b03abf267d"
      },
      "execution_count": null,
      "outputs": [
        {
          "output_type": "stream",
          "name": "stdout",
          "text": [
            "[1, 'a', 2]\n",
            "1\n",
            "2\n",
            "c\n"
          ]
        }
      ]
    },
    {
      "cell_type": "markdown",
      "source": [
        "## Fatiamento\n",
        "\n",
        "Além de acessar elementos diretamente, podemos extrair um conjunto de valores de uma sequência. \n",
        "\n",
        "Para isso basta passar o índice inicial e/ou final para acessar o conjunto.\n",
        "\n",
        "Podemos ainda informar quantas posições o cursor deve \"pular\" no acesso."
      ],
      "metadata": {
        "id": "d1RS2xxzWxSs"
      }
    },
    {
      "cell_type": "code",
      "source": [
        "lista = [\"p\", \"y\", \"t\", \"h\", \"o\", \"n\"]\n",
        "\n",
        "print(lista[2:])  # [\"t\", \"h\", \"o\", \"n\"]\n",
        "print(lista[:2])  # [\"p\", \"y\"]\n",
        "print(lista[1:3])  # [\"y\", \"t\"]\n",
        "print(lista[0:3:2])  # [\"p\", \"t\"]\n",
        "print(lista[::])  # [\"p\", \"y\", \"t\", \"h\", \"o\", \"n\"]\n",
        "print(lista[::-1])  # [\"n\", \"o\", \"h\", \"t\", \"y\", \"p\"]"
      ],
      "metadata": {
        "colab": {
          "base_uri": "https://localhost:8080/"
        },
        "id": "ZqqhtjyyWtKI",
        "outputId": "cd1eba09-1111-47a5-8f6e-34e6aa31c79e"
      },
      "execution_count": null,
      "outputs": [
        {
          "output_type": "stream",
          "name": "stdout",
          "text": [
            "['t', 'h', 'o', 'n']\n",
            "['p', 'y']\n",
            "['y', 't']\n",
            "['p', 't']\n",
            "['p', 'y', 't', 'h', 'o', 'n']\n",
            "['n', 'o', 'h', 't', 'y', 'p']\n"
          ]
        }
      ]
    },
    {
      "cell_type": "markdown",
      "source": [
        "## Iterar listas\n",
        "\n",
        "A forma mais comum para percorrer os dados de uma lista é utilizando o comando `for`."
      ],
      "metadata": {
        "id": "iQ3JRehXXT3-"
      }
    },
    {
      "cell_type": "code",
      "source": [
        "carros = [\"gol\", \"celta\", \"palio\"]\n",
        "\n",
        "for carro in carros:\n",
        "    print(carro)\n",
        "\n",
        "\n",
        "for indice, carro in enumerate(carros):\n",
        "    print(f\"{indice}: {carro}\")"
      ],
      "metadata": {
        "colab": {
          "base_uri": "https://localhost:8080/"
        },
        "id": "dqQ4tOu_XTH8",
        "outputId": "e2901c8e-80d3-44b3-d1ac-aef565a6c171"
      },
      "execution_count": null,
      "outputs": [
        {
          "output_type": "stream",
          "name": "stdout",
          "text": [
            "gol\n",
            "celta\n",
            "palio\n",
            "0: gol\n",
            "1: celta\n",
            "2: palio\n"
          ]
        }
      ]
    },
    {
      "cell_type": "markdown",
      "source": [
        "## Função enumerate\n",
        "\n",
        "Às vezes é necessário saber qual o índice do objeto dentro do laço `for`. Para isso podemos usar a função `enumerate`."
      ],
      "metadata": {
        "id": "g2GQNnN5XnR0"
      }
    },
    {
      "cell_type": "code",
      "source": [
        "carros = [\"gol\", \"celta\", \"palio\"]\n",
        "\n",
        "for indice, carro in enumerate(carros):\n",
        "    print(f\"{indice}: {carro}\")"
      ],
      "metadata": {
        "colab": {
          "base_uri": "https://localhost:8080/"
        },
        "id": "MaqHkQEcXlj_",
        "outputId": "48e7e965-bde5-4a38-e000-ad71614b63f4"
      },
      "execution_count": null,
      "outputs": [
        {
          "output_type": "stream",
          "name": "stdout",
          "text": [
            "0: gol\n",
            "1: celta\n",
            "2: palio\n"
          ]
        }
      ]
    },
    {
      "cell_type": "markdown",
      "source": [
        "## Compreensão de listas\n",
        "\n",
        "A compreensão de lista oferece uma sintaxe mais curta quando você deseja:\n",
        "* criar uma nova lista com base nos valores de uma lista existente (filtro), ou\n",
        "\n",
        "* gerear uma nova lista aplicando alguma modificação nos elementos de uma lista existente."
      ],
      "metadata": {
        "id": "enh1tMUOYY44"
      }
    },
    {
      "cell_type": "code",
      "source": [
        "# Filtrar lista\n",
        "numeros = [1, 30, 21, 2, 9, 65, 34]\n",
        "pares = [numero for numero in numeros if numero % 2 == 0]\n",
        "print(pares)\n",
        "\n",
        "# Modificar valores\n",
        "numeros = [1, 30, 21, 2, 9, 65, 34]\n",
        "quadrado = [numero**2 for numero in numeros]\n",
        "print(quadrado)"
      ],
      "metadata": {
        "colab": {
          "base_uri": "https://localhost:8080/"
        },
        "id": "io0LwmwjYTRf",
        "outputId": "8c777435-15ca-483a-f065-2eb138385f12"
      },
      "execution_count": null,
      "outputs": [
        {
          "output_type": "stream",
          "name": "stdout",
          "text": [
            "[30, 2, 34]\n",
            "[1, 900, 441, 4, 81, 4225, 1156]\n"
          ]
        }
      ]
    },
    {
      "cell_type": "markdown",
      "source": [
        "# Métodos da classe list"
      ],
      "metadata": {
        "id": "u4CfeJl9Zg7u"
      }
    },
    {
      "cell_type": "markdown",
      "source": [
        "## append"
      ],
      "metadata": {
        "id": "fyoB35_MZm2G"
      }
    },
    {
      "cell_type": "code",
      "source": [
        "lista = []\n",
        "\n",
        "lista.append(1)\n",
        "lista.append(\"Python\")\n",
        "lista.append([40, 30, 20])\n",
        "\n",
        "print(lista)  # [1, \"Python\", [40, 30, 20]]"
      ],
      "metadata": {
        "colab": {
          "base_uri": "https://localhost:8080/"
        },
        "id": "78eDUFkZZLAo",
        "outputId": "b26df0d9-b1b7-43e9-f2c5-bb2f3fa0bb8b"
      },
      "execution_count": null,
      "outputs": [
        {
          "output_type": "stream",
          "name": "stdout",
          "text": [
            "[1, 'Python', [40, 30, 20]]\n"
          ]
        }
      ]
    },
    {
      "cell_type": "markdown",
      "source": [
        "## clear"
      ],
      "metadata": {
        "id": "2hy-rQwwZ6qS"
      }
    },
    {
      "cell_type": "code",
      "source": [
        "lista = [1, \"Python\", [40, 30, 20]]\n",
        "\n",
        "print(lista)  # [1, \"Python\", [40, 30, 20]]\n",
        "\n",
        "lista.clear()\n",
        "\n",
        "print(lista)  # []"
      ],
      "metadata": {
        "colab": {
          "base_uri": "https://localhost:8080/"
        },
        "id": "Ty6hs0-PZ2-a",
        "outputId": "93806dd9-e8d5-4328-8cb2-528ad9760f47"
      },
      "execution_count": null,
      "outputs": [
        {
          "output_type": "stream",
          "name": "stdout",
          "text": [
            "[1, 'Python', [40, 30, 20]]\n",
            "[]\n"
          ]
        }
      ]
    },
    {
      "cell_type": "markdown",
      "source": [
        "## copy"
      ],
      "metadata": {
        "id": "0bRwwHLqaB1t"
      }
    },
    {
      "cell_type": "code",
      "source": [
        "lista = [1, \"Python\", [40, 30, 20]]\n",
        "\n",
        "lista.copy()\n",
        "\n",
        "print(lista)  # [1, \"Python\", [40, 30, 20]]"
      ],
      "metadata": {
        "colab": {
          "base_uri": "https://localhost:8080/"
        },
        "id": "PM0AH4D_Z90O",
        "outputId": "04d4ebd1-6a93-4b08-cf2d-84e1a2aeeef3"
      },
      "execution_count": null,
      "outputs": [
        {
          "output_type": "stream",
          "name": "stdout",
          "text": [
            "[1, 'Python', [40, 30, 20]]\n"
          ]
        }
      ]
    },
    {
      "cell_type": "markdown",
      "source": [
        "## count"
      ],
      "metadata": {
        "id": "1Pf5lTQ6aG8R"
      }
    },
    {
      "cell_type": "code",
      "source": [
        "cores = [\"vermelho\", \"azul\", \"verde\", \"azul\"]\n",
        "\n",
        "print(cores.count(\"vermelho\"))  # 1\n",
        "print(cores.count(\"azul\"))  # 2\n",
        "print(cores.count(\"verde\"))  # 1"
      ],
      "metadata": {
        "colab": {
          "base_uri": "https://localhost:8080/"
        },
        "id": "W4awKkCCaTMA",
        "outputId": "ea962940-6757-46f1-ed7d-72deacac75b4"
      },
      "execution_count": null,
      "outputs": [
        {
          "output_type": "stream",
          "name": "stdout",
          "text": [
            "1\n",
            "2\n",
            "1\n"
          ]
        }
      ]
    },
    {
      "cell_type": "markdown",
      "source": [
        "## extend"
      ],
      "metadata": {
        "id": "hi7ykQwiaJcJ"
      }
    },
    {
      "cell_type": "code",
      "source": [
        "linguagens = [\"python\", \"js\", \"c\"]\n",
        "\n",
        "print(linguagens)  # [\"python\", \"js\", \"c\"]\n",
        "\n",
        "linguagens.extend([\"java\", \"csharp\"])\n",
        "\n",
        "print(linguagens)  # [\"python\", \"js\", \"c\", \"java\", \"csharp\"]"
      ],
      "metadata": {
        "colab": {
          "base_uri": "https://localhost:8080/"
        },
        "id": "JTm34nTEaUNn",
        "outputId": "30af738d-730a-493e-ecda-6ab9674b6159"
      },
      "execution_count": null,
      "outputs": [
        {
          "output_type": "stream",
          "name": "stdout",
          "text": [
            "['python', 'js', 'c']\n",
            "['python', 'js', 'c', 'java', 'csharp']\n"
          ]
        }
      ]
    },
    {
      "cell_type": "markdown",
      "source": [
        "## index"
      ],
      "metadata": {
        "id": "x-Pu4jF7aMsA"
      }
    },
    {
      "cell_type": "code",
      "source": [
        "linguagens = [\"python\", \"js\", \"c\", \"java\", \"csharp\"]\n",
        "\n",
        "print(linguagens.index(\"java\"))  # 3\n",
        "print(linguagens.index(\"python\"))  # 0"
      ],
      "metadata": {
        "colab": {
          "base_uri": "https://localhost:8080/"
        },
        "id": "sgjxFBbJaUqF",
        "outputId": "e94701e1-b479-481e-e30d-2056e8d2ecba"
      },
      "execution_count": null,
      "outputs": [
        {
          "output_type": "stream",
          "name": "stdout",
          "text": [
            "3\n",
            "0\n"
          ]
        }
      ]
    },
    {
      "cell_type": "markdown",
      "source": [
        "## pop"
      ],
      "metadata": {
        "id": "RQHxGBL1aPhi"
      }
    },
    {
      "cell_type": "code",
      "source": [
        "linguagens = [\"python\", \"js\", \"c\", \"java\", \"csharp\"]\n",
        "\n",
        "print(linguagens.pop())  # csharp\n",
        "print(linguagens.pop())  # java\n",
        "print(linguagens.pop())  # c\n",
        "print(linguagens.pop(0))  # python"
      ],
      "metadata": {
        "colab": {
          "base_uri": "https://localhost:8080/"
        },
        "id": "RNp2LzLZaEcP",
        "outputId": "19ffb0f6-c08f-4a64-e818-2a31820099d4"
      },
      "execution_count": null,
      "outputs": [
        {
          "output_type": "stream",
          "name": "stdout",
          "text": [
            "csharp\n",
            "java\n",
            "c\n",
            "python\n"
          ]
        }
      ]
    },
    {
      "cell_type": "markdown",
      "source": [
        "## remove"
      ],
      "metadata": {
        "id": "3NdyB86yaVoC"
      }
    },
    {
      "cell_type": "code",
      "source": [
        "linguagens = [\"python\", \"js\", \"c\", \"java\", \"csharp\"]\n",
        "\n",
        "linguagens.remove(\"c\")\n",
        "\n",
        "print(linguagens)  # [\"python\", \"js\", \"java\", \"csharp\"]"
      ],
      "metadata": {
        "colab": {
          "base_uri": "https://localhost:8080/"
        },
        "id": "1COAQGzkaXHM",
        "outputId": "36333861-2650-4b5e-a7ad-a5ff235dba33"
      },
      "execution_count": null,
      "outputs": [
        {
          "output_type": "stream",
          "name": "stdout",
          "text": [
            "['python', 'js', 'java', 'csharp']\n"
          ]
        }
      ]
    },
    {
      "cell_type": "markdown",
      "source": [
        "## reverse"
      ],
      "metadata": {
        "id": "ksNYIuFUaXwx"
      }
    },
    {
      "cell_type": "code",
      "source": [
        "linguagens = [\"python\", \"js\", \"c\", \"java\", \"csharp\"]\n",
        "\n",
        "linguagens.reverse()\n",
        "\n",
        "print(linguagens)  # [\"csharp\", \"java\", \"c\", \"js\", \"python\"]"
      ],
      "metadata": {
        "colab": {
          "base_uri": "https://localhost:8080/"
        },
        "id": "HfUp6yWtaZVl",
        "outputId": "254efb0d-e966-42f0-ff2e-f81ee08d7e9e"
      },
      "execution_count": null,
      "outputs": [
        {
          "output_type": "stream",
          "name": "stdout",
          "text": [
            "['csharp', 'java', 'c', 'js', 'python']\n"
          ]
        }
      ]
    },
    {
      "cell_type": "markdown",
      "source": [
        "## sort"
      ],
      "metadata": {
        "id": "ymjMrV_MabGO"
      }
    },
    {
      "cell_type": "code",
      "source": [
        "linguagens = [\"python\", \"js\", \"c\", \"java\", \"csharp\"]\n",
        "linguagens.sort()  # [\"c\", \"csharp\", \"java\", \"js\", \"python\"]\n",
        "print(linguagens)\n",
        "\n",
        "linguagens = [\"python\", \"js\", \"c\", \"java\", \"csharp\"]\n",
        "linguagens.sort(reverse=True)  # [\"python\", \"js\", \"java\", \"csharp\", \"c\"]\n",
        "print(linguagens)\n",
        "\n",
        "linguagens = [\"python\", \"js\", \"c\", \"java\", \"csharp\"]\n",
        "linguagens.sort(key=lambda x: len(x))  # [\"c\", \"js\", \"java\", \"python\", \"csharp\"]\n",
        "print(linguagens)\n",
        "\n",
        "linguagens = [\"python\", \"js\", \"c\", \"java\", \"csharp\"]\n",
        "linguagens.sort(key=lambda x: len(x), reverse=True)  # [\"python\", \"csharp\", \"java\", \"js\", \"c\"]\n",
        "print(linguagens)"
      ],
      "metadata": {
        "colab": {
          "base_uri": "https://localhost:8080/"
        },
        "id": "7COBSxP3adkR",
        "outputId": "d03848ee-b6ef-49cc-e859-af52b7d087c3"
      },
      "execution_count": null,
      "outputs": [
        {
          "output_type": "stream",
          "name": "stdout",
          "text": [
            "['c', 'csharp', 'java', 'js', 'python']\n",
            "['python', 'js', 'java', 'csharp', 'c']\n",
            "['c', 'js', 'java', 'python', 'csharp']\n",
            "['python', 'csharp', 'java', 'js', 'c']\n"
          ]
        }
      ]
    },
    {
      "cell_type": "markdown",
      "source": [
        "## len"
      ],
      "metadata": {
        "id": "SC_XgATYaeWm"
      }
    },
    {
      "cell_type": "code",
      "source": [
        "linguagens = [\"python\", \"js\", \"c\", \"java\", \"csharp\"]\n",
        "\n",
        "print(len(linguagens))  # 5"
      ],
      "metadata": {
        "colab": {
          "base_uri": "https://localhost:8080/"
        },
        "id": "JGszxz3Xae97",
        "outputId": "a0f9517b-97de-47fd-9480-72a06be79507"
      },
      "execution_count": null,
      "outputs": [
        {
          "output_type": "stream",
          "name": "stdout",
          "text": [
            "5\n"
          ]
        }
      ]
    },
    {
      "cell_type": "markdown",
      "source": [
        "sorted"
      ],
      "metadata": {
        "id": "FFcikwdvafoy"
      }
    },
    {
      "cell_type": "code",
      "source": [
        "linguagens = [\"python\", \"js\", \"c\", \"java\", \"csharp\"]\n",
        "\n",
        "print(sorted(linguagens, key=lambda x: len(x)))  # [\"c\", \"js\", \"java\", \"python\", \"csharp\"]\n",
        "print(sorted(linguagens, key=lambda x: len(x), reverse=True))  # [\"python\", \"csharp\", \"java\", \"js\", \"c\"]"
      ],
      "metadata": {
        "colab": {
          "base_uri": "https://localhost:8080/"
        },
        "id": "yDu_1Uayag1R",
        "outputId": "d6bd0603-ea58-4a0a-b310-4a6813e1a858"
      },
      "execution_count": null,
      "outputs": [
        {
          "output_type": "stream",
          "name": "stdout",
          "text": [
            "['c', 'js', 'java', 'python', 'csharp']\n",
            "['python', 'csharp', 'java', 'js', 'c']\n"
          ]
        }
      ]
    }
  ]
}